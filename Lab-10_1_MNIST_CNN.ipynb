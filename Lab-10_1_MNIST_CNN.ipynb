{
 "cells": [
  {
   "cell_type": "markdown",
   "metadata": {},
   "source": [
    "## Import Required Libraries"
   ]
  },
  {
   "cell_type": "code",
   "execution_count": 6,
   "metadata": {},
   "outputs": [],
   "source": [
    "import torch\n",
    "import torchvision.datasets as dsets\n",
    "import torchvision.transforms as transforms\n",
    "import torch.nn.init\n",
    "import torch.nn as nn\n",
    "import torch.optim as optim"
   ]
  },
  {
   "cell_type": "markdown",
   "metadata": {},
   "source": [
    "## GPU 사용 가능 여부 확인 및 Random Seed 설정"
   ]
  },
  {
   "cell_type": "code",
   "execution_count": 7,
   "metadata": {},
   "outputs": [
    {
     "name": "stdout",
     "output_type": "stream",
     "text": [
      "cuda\n"
     ]
    }
   ],
   "source": [
    "device = 'cuda' if torch.cuda.is_available() else 'cpu'\n",
    "print(device)\n",
    "\n",
    "#Random Seed 설정\n",
    "torch.manual_seed(777)\n",
    "if device == 'cuda':\n",
    "    torch.cuda.manual_seed_all(777)"
   ]
  },
  {
   "cell_type": "code",
   "execution_count": 8,
   "metadata": {},
   "outputs": [],
   "source": [
    "# parameters\n",
    "learning_rate = 0.001\n",
    "training_epochs = 15\n",
    "batch_size = 50"
   ]
  },
  {
   "cell_type": "markdown",
   "metadata": {},
   "source": [
    "### torchvision.datasets 의 Parameter\n",
    "- root : 데이터셋을 어느 경로에 받을 것인가?\n",
    "- train : Train dataset을 다운 받을 것인지? Test dataset을 다운 받을 것인지?\n",
    "- transform : 일반 이미지 (H,W,C) (픽셀값 : 0 ~ 255) --> Torch에서 쓸 수 있는 이미지 (C,H,W) (픽셀값 : 0 ~ 1)\n",
    "- download : 만약 없을시 다운로드를 할 것인가?"
   ]
  },
  {
   "cell_type": "code",
   "execution_count": 9,
   "metadata": {},
   "outputs": [],
   "source": [
    "mnist_train = dsets.MNIST(root = 'MNIST_data/',\n",
    "                          train = True,\n",
    "                          transform = transforms.ToTensor(),\n",
    "                          download = True)\n",
    "\n",
    "mnist_test = dsets.MNIST(root = 'MNIST_data/',\n",
    "                          train = False,\n",
    "                          transform = transforms.ToTensor(),\n",
    "                          download = True)"
   ]
  },
  {
   "cell_type": "markdown",
   "metadata": {},
   "source": [
    "### torch.utils.data.DataLoader 의 Parameter\n",
    "- dataset : 어떤 데이터셋을 읽어올 것인지?\n",
    "- batch_size : batch_size를 몇으로 할 것인지?\n",
    "- shuffle : dataset을 섞을 것인지?\n",
    "- drop_last : 만약 batch_size만큼 데이터를 가져왔을 때, 남은 데이터는 어떻게 처리할 것인지?"
   ]
  },
  {
   "cell_type": "code",
   "execution_count": 10,
   "metadata": {},
   "outputs": [],
   "source": [
    "# dataset loader\n",
    "data_loader = torch.utils.data.DataLoader(dataset = mnist_train,\n",
    "                                          batch_size = batch_size,\n",
    "                                          shuffle = True,\n",
    "                                          drop_last = True)"
   ]
  },
  {
   "cell_type": "markdown",
   "metadata": {},
   "source": [
    "## CNN Model (2 con layers)"
   ]
  },
  {
   "cell_type": "code",
   "execution_count": 6,
   "metadata": {},
   "outputs": [],
   "source": [
    "class CNN(torch.nn.Module):\n",
    "    def __init__(self):\n",
    "        super(CNN,self).__init__()   # nn.Module에서 상속을 받기 위해서 있어야 함.\n",
    "        self.layer1 = nn.Sequential(\n",
    "                      nn.Conv2d(1,32,kernel_size=3, stride = 1, padding =1),\n",
    "                      nn.ReLU(),\n",
    "                      nn.MaxPool2d(2))\n",
    "\n",
    "        self.layer2 = nn.Sequential(\n",
    "                      nn.Conv2d(32,64,kernel_size=3, stride = 1, padding = 1),\n",
    "                      nn.ReLU(),\n",
    "                      nn.MaxPool2d(2))\n",
    "\n",
    "        self.fc = nn.Linear(7*7*64, 10, bias = True)\n",
    "\n",
    "        # Initialization\n",
    "        torch.nn.init.xavier_uniform_(self.fc.weight)\n",
    "\n",
    "    def forward(self,x):\n",
    "        out = self.layer1(x)\n",
    "        out = self.layer2(out)\n",
    "        out = out.view(out.size(0),-1)  #Flatten (batch_size, -1)\n",
    "        out = self.fc(out)\n",
    "\n",
    "        return out\n",
    "    \n",
    "    \n",
    "\n",
    "\n"
   ]
  },
  {
   "cell_type": "code",
   "execution_count": 7,
   "metadata": {},
   "outputs": [],
   "source": [
    "# Model\n",
    "model = CNN().to(device)"
   ]
  },
  {
   "cell_type": "code",
   "execution_count": 8,
   "metadata": {},
   "outputs": [],
   "source": [
    "# Loss function\n",
    "criterion = nn.CrossEntropyLoss().to(device)\n",
    "\n",
    "# Optimizer\n",
    "optimizer = optim.Adam(model.parameters(), lr = learning_rate)"
   ]
  },
  {
   "cell_type": "markdown",
   "metadata": {},
   "source": [
    "## Training"
   ]
  },
  {
   "cell_type": "code",
   "execution_count": 9,
   "metadata": {},
   "outputs": [
    {
     "name": "stdout",
     "output_type": "stream",
     "text": [
      "Learning Started\n",
      "[epoch: 1] cost = 0.17086203396320343\n",
      "[epoch: 2] cost = 0.05398032069206238\n",
      "[epoch: 3] cost = 0.03933505713939667\n",
      "[epoch: 4] cost = 0.030365170910954475\n",
      "[epoch: 5] cost = 0.02387661300599575\n",
      "[epoch: 6] cost = 0.01979607157409191\n",
      "[epoch: 7] cost = 0.015497392974793911\n",
      "[epoch: 8] cost = 0.01374112069606781\n",
      "[epoch: 9] cost = 0.010761722922325134\n",
      "[epoch: 10] cost = 0.008580321446061134\n",
      "[epoch: 11] cost = 0.008147109299898148\n",
      "[epoch: 12] cost = 0.0075375731103122234\n",
      "[epoch: 13] cost = 0.006176360882818699\n",
      "[epoch: 14] cost = 0.004374283831566572\n",
      "[epoch: 15] cost = 0.0048863887786865234\n",
      "Learning finished!\n"
     ]
    }
   ],
   "source": [
    "total_batch = len(data_loader)\n",
    "print('Learning Started')\n",
    "\n",
    "for epoch in range(training_epochs):\n",
    "    avg_cost = 0\n",
    "    \n",
    "    for X, Y in data_loader:\n",
    "        X = X.to(device)   # GPU로 연산을 진행하기 위해서\n",
    "        Y = Y.to(device)\n",
    "        \n",
    "        # 예측 값\n",
    "        hypothesis = model(X)\n",
    "        \n",
    "        # Loss 계산\n",
    "        cost = criterion(hypothesis,Y)\n",
    "        \n",
    "        optimizer.zero_grad()\n",
    "        cost.backward()\n",
    "        optimizer.step()\n",
    "        \n",
    "        avg_cost += cost / total_batch\n",
    "    \n",
    "    print('[epoch: {}] cost = {}'.format(epoch+1,avg_cost))\n",
    "\n",
    "print('Learning finished!')"
   ]
  },
  {
   "cell_type": "markdown",
   "metadata": {},
   "source": [
    "## Test"
   ]
  },
  {
   "cell_type": "code",
   "execution_count": 10,
   "metadata": {
    "scrolled": true
   },
   "outputs": [
    {
     "name": "stdout",
     "output_type": "stream",
     "text": [
      "Accuracy :  0.9837999939918518\n"
     ]
    }
   ],
   "source": [
    "with torch.no_grad():\n",
    "    X_test = mnist_test.data.view(len(mnist_test),1,28,28).float().to(device)\n",
    "    Y_test = mnist_test.targets.to(device)\n",
    "    \n",
    "    prediction = model(X_test)\n",
    "    correct_prediction = torch.argmax(prediction,1) == Y_test\n",
    "    accuracy = correct_prediction.float().mean()\n",
    "    \n",
    "    print('Accuracy : ', accuracy.item())"
   ]
  },
  {
   "cell_type": "markdown",
   "metadata": {},
   "source": [
    "## Use another Model"
   ]
  },
  {
   "cell_type": "code",
   "execution_count": 11,
   "metadata": {},
   "outputs": [],
   "source": [
    "class CNN(torch.nn.Module):\n",
    "    def __init__(self):\n",
    "        super(CNN,self).__init__()   # nn.Module에서 상속을 받기 위해서 있어야 함.\n",
    "        self.layer1 = nn.Sequential(\n",
    "                      nn.Conv2d(1,32,kernel_size=3, stride = 1, padding =1),\n",
    "                      nn.ReLU(),\n",
    "                      nn.MaxPool2d(2))\n",
    "\n",
    "        self.layer2 = nn.Sequential(\n",
    "                      nn.Conv2d(32,64,kernel_size=3, stride = 1, padding = 1),\n",
    "                      nn.ReLU(),\n",
    "                      nn.MaxPool2d(2))\n",
    "        \n",
    "        self.layer3 = nn.Sequential(\n",
    "                      nn.Conv2d(64,128, kernel_size = 3, stride = 1, padding = 1),\n",
    "                      nn.ReLU(),\n",
    "                      nn.MaxPool2d(2))\n",
    "\n",
    "        self.fc1 = nn.Linear(3*3*128, 625)\n",
    "        self.relu = nn.ReLU()\n",
    "        self.fc2 = nn.Linear(625, 10, bias = True)\n",
    "        \n",
    "\n",
    "        # Initialization\n",
    "        torch.nn.init.xavier_uniform_(self.fc1.weight)\n",
    "        torch.nn.init.xavier_uniform_(self.fc2.weight)\n",
    "\n",
    "    def forward(self,x):\n",
    "        out = self.layer1(x)\n",
    "        out = self.layer2(out)\n",
    "        out = self.layer3(out)\n",
    "        \n",
    "        out = out.view(out.size(0),-1)  #Flatten (batch_size, -1)\n",
    "        out = self.fc1(out)\n",
    "        out = self.relu(out)\n",
    "        out = self.fc2(out)\n",
    "\n",
    "        return out\n",
    "    \n",
    "    \n",
    "\n",
    "\n"
   ]
  },
  {
   "cell_type": "code",
   "execution_count": 12,
   "metadata": {},
   "outputs": [],
   "source": [
    "# Model\n",
    "model = CNN().to(device)"
   ]
  },
  {
   "cell_type": "code",
   "execution_count": 13,
   "metadata": {},
   "outputs": [],
   "source": [
    "# Loss function\n",
    "criterion = nn.CrossEntropyLoss().to(device)\n",
    "\n",
    "# Optimizer\n",
    "optimizer = optim.Adam(model.parameters(), lr = learning_rate)"
   ]
  },
  {
   "cell_type": "markdown",
   "metadata": {},
   "source": [
    "## Training"
   ]
  },
  {
   "cell_type": "code",
   "execution_count": 14,
   "metadata": {},
   "outputs": [
    {
     "name": "stdout",
     "output_type": "stream",
     "text": [
      "Learning Started\n",
      "[epoch: 1] cost = 0.13422012329101562\n",
      "[epoch: 2] cost = 0.040615614503622055\n",
      "[epoch: 3] cost = 0.029511310160160065\n",
      "[epoch: 4] cost = 0.021188275888562202\n",
      "[epoch: 5] cost = 0.018298352137207985\n",
      "[epoch: 6] cost = 0.013908224180340767\n",
      "[epoch: 7] cost = 0.013179261237382889\n",
      "[epoch: 8] cost = 0.010114748030900955\n",
      "[epoch: 9] cost = 0.00945969671010971\n",
      "[epoch: 10] cost = 0.008538463152945042\n",
      "[epoch: 11] cost = 0.0077784089371562\n",
      "[epoch: 12] cost = 0.006555082276463509\n",
      "[epoch: 13] cost = 0.0072351377457380295\n",
      "[epoch: 14] cost = 0.0056805056519806385\n",
      "[epoch: 15] cost = 0.004413490649312735\n",
      "Learning finished!\n"
     ]
    }
   ],
   "source": [
    "total_batch = len(data_loader)\n",
    "print('Learning Started')\n",
    "\n",
    "for epoch in range(training_epochs):\n",
    "    avg_cost = 0\n",
    "    \n",
    "    for X, Y in data_loader:\n",
    "        X = X.to(device)   # GPU로 연산을 진행하기 위해서\n",
    "        Y = Y.to(device)\n",
    "        \n",
    "        # 예측 값\n",
    "        hypothesis = model(X)\n",
    "        \n",
    "        # Loss 계산\n",
    "        cost = criterion(hypothesis,Y)\n",
    "        \n",
    "        optimizer.zero_grad()\n",
    "        cost.backward()\n",
    "        optimizer.step()\n",
    "        \n",
    "        avg_cost += cost / total_batch\n",
    "    \n",
    "    print('[epoch: {}] cost = {}'.format(epoch+1,avg_cost))\n",
    "\n",
    "print('Learning finished!')"
   ]
  },
  {
   "cell_type": "markdown",
   "metadata": {},
   "source": [
    "## Test"
   ]
  },
  {
   "cell_type": "code",
   "execution_count": 15,
   "metadata": {},
   "outputs": [
    {
     "name": "stdout",
     "output_type": "stream",
     "text": [
      "Accuracy :  0.9592999815940857\n"
     ]
    }
   ],
   "source": [
    "torch.cuda.empty_cache()\n",
    "\n",
    "with torch.no_grad():\n",
    "    X_test = mnist_test.data.view(len(mnist_test),1,28,28).float().to(device)\n",
    "    Y_test = mnist_test.targets.to(device)\n",
    "    \n",
    "    prediction = model(X_test)\n",
    "    correct_prediction = torch.argmax(prediction,1) == Y_test\n",
    "    accuracy = correct_prediction.float().mean()\n",
    "    \n",
    "    print('Accuracy : ', accuracy.item())"
   ]
  },
  {
   "cell_type": "markdown",
   "metadata": {},
   "source": [
    "## 결론 : Layer를 깊이 쌓는다고 무조건 좋은 것은 아니다!\n",
    "\n",
    "두 CNN 모델을 연속으로 돌리면 out of memory라는 구문이 나오는데 아직 해결하지 못했다.."
   ]
  }
 ],
 "metadata": {
  "kernelspec": {
   "display_name": "Python 3",
   "language": "python",
   "name": "python3"
  },
  "language_info": {
   "codemirror_mode": {
    "name": "ipython",
    "version": 3
   },
   "file_extension": ".py",
   "mimetype": "text/x-python",
   "name": "python",
   "nbconvert_exporter": "python",
   "pygments_lexer": "ipython3",
   "version": "3.7.9"
  }
 },
 "nbformat": 4,
 "nbformat_minor": 4
}
