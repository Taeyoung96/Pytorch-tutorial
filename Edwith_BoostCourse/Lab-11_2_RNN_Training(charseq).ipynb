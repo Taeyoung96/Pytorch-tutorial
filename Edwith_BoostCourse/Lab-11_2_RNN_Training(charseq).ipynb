{
 "cells": [
  {
   "cell_type": "markdown",
   "metadata": {},
   "source": [
    "## Import Required Libraries"
   ]
  },
  {
   "cell_type": "code",
   "execution_count": 1,
   "metadata": {},
   "outputs": [],
   "source": [
    "import torch\n",
    "import torch.optim as optim\n",
    "import numpy as np"
   ]
  },
  {
   "cell_type": "markdown",
   "metadata": {},
   "source": [
    "## Random Seed 고정"
   ]
  },
  {
   "cell_type": "code",
   "execution_count": 2,
   "metadata": {},
   "outputs": [
    {
     "data": {
      "text/plain": [
       "<torch._C.Generator at 0x1cd7a3d9a70>"
      ]
     },
     "execution_count": 2,
     "metadata": {},
     "output_type": "execute_result"
    }
   ],
   "source": [
    "# Random seed to make results deterministic and reproducible\n",
    "torch.manual_seed(0)"
   ]
  },
  {
   "cell_type": "markdown",
   "metadata": {},
   "source": [
    "## 'HiHello' Example "
   ]
  },
  {
   "cell_type": "code",
   "execution_count": 3,
   "metadata": {},
   "outputs": [
    {
     "data": {
      "text/plain": [
       "\"\\n'h' - 0\\n'i' - 1\\n'e' - 2\\n'l' - 3\\n'o' - 4\\n\""
      ]
     },
     "execution_count": 3,
     "metadata": {},
     "output_type": "execute_result"
    }
   ],
   "source": [
    "# declare dictionary\n",
    "# 문자들을 Index로 표현해보자\n",
    "char_set = ['h','i','e','l','o']\n",
    "\"\"\"\n",
    "'h' - 0\n",
    "'i' - 1\n",
    "'e' - 2\n",
    "'l' - 3\n",
    "'o' - 4\n",
    "\"\"\""
   ]
  },
  {
   "cell_type": "code",
   "execution_count": 4,
   "metadata": {},
   "outputs": [],
   "source": [
    "# hyper parameters\n",
    "input_size = len(char_set)\n",
    "hidden_size = len(char_set)\n",
    "learning_rate = 0.1"
   ]
  },
  {
   "cell_type": "markdown",
   "metadata": {},
   "source": [
    "### Data Setting\n",
    "- x_data를 이용해서 다음 올 문자인 y_data를 예측"
   ]
  },
  {
   "cell_type": "code",
   "execution_count": 5,
   "metadata": {},
   "outputs": [],
   "source": [
    "x_data = [[0, 1, 0, 2, 3, 3]]  # h i h e l l\n",
    "y_data = [[1, 0, 2, 3, 3, 4]]  # i h e l l o"
   ]
  },
  {
   "cell_type": "markdown",
   "metadata": {},
   "source": [
    "### One-hot encoding을 이용해서 x_data 바꾸기"
   ]
  },
  {
   "cell_type": "code",
   "execution_count": 6,
   "metadata": {},
   "outputs": [],
   "source": [
    "x_one_hot = [[[1, 0, 0, 0, 0],\n",
    "              [0, 1, 0, 0, 0],\n",
    "              [1, 0, 0, 0, 0],\n",
    "              [0, 0, 1, 0, 0],\n",
    "              [0, 0, 0, 1, 0],\n",
    "              [0, 0, 0, 1, 0]]]"
   ]
  },
  {
   "cell_type": "markdown",
   "metadata": {},
   "source": [
    "### Torch의 Tensor 변수로 바꾸기"
   ]
  },
  {
   "cell_type": "code",
   "execution_count": 7,
   "metadata": {},
   "outputs": [],
   "source": [
    "# transform as torch tensor variable\n",
    "X = torch.FloatTensor(x_one_hot)\n",
    "Y = torch.LongTensor(y_data)"
   ]
  },
  {
   "cell_type": "markdown",
   "metadata": {},
   "source": [
    "## RNN 정의\n",
    "\n",
    "### RNN의 Parameter\n",
    "- input_size : Input data의 갯수\n",
    "- hidden_size : Output data의 갯수\n",
    "- batch_first : Batch dimenstion이 가장 앞으로 오도록 한다."
   ]
  },
  {
   "cell_type": "code",
   "execution_count": 8,
   "metadata": {},
   "outputs": [],
   "source": [
    "rnn = torch.nn.RNN(input_size,hidden_size, batch_first = True)"
   ]
  },
  {
   "cell_type": "code",
   "execution_count": 9,
   "metadata": {},
   "outputs": [],
   "source": [
    "# loss function\n",
    "criterion = torch.nn.CrossEntropyLoss()\n",
    "\n",
    "# Optimizer\n",
    "optimizer = optim.Adam(rnn.parameters(), lr = learning_rate)"
   ]
  },
  {
   "cell_type": "markdown",
   "metadata": {},
   "source": [
    "## Training\n",
    "\n",
    "rnn(X)의 ouput\n",
    "> output, _status(다음 Block이 있을 시 넘겨줄 hidden state에 대한 output)\n",
    "\n",
    "output data의 Shape\n",
    "> (batch,sequence,feature)\n",
    "> - Batch - batch Size\n",
    "> - Sequence - 만들 문장의 글자 수\n",
    "> - Feature - 문장을 이루고 있는 글자의 갯수"
   ]
  },
  {
   "cell_type": "code",
   "execution_count": 10,
   "metadata": {},
   "outputs": [
    {
     "name": "stdout",
     "output_type": "stream",
     "text": [
      "1 : loss:  1.7802648544311523 prediction:  [[1 1 1 1 1 1]]\n",
      "    true Y:  [[1, 0, 2, 3, 3, 4]] prediction str:  iiiiii\n",
      "2 : loss:  1.4931954145431519 prediction:  [[1 4 1 1 4 4]]\n",
      "    true Y:  [[1, 0, 2, 3, 3, 4]] prediction str:  ioiioo\n",
      "3 : loss:  1.3337129354476929 prediction:  [[1 3 2 3 1 4]]\n",
      "    true Y:  [[1, 0, 2, 3, 3, 4]] prediction str:  ilelio\n",
      "4 : loss:  1.2152955532073975 prediction:  [[2 3 2 3 3 3]]\n",
      "    true Y:  [[1, 0, 2, 3, 3, 4]] prediction str:  elelll\n",
      "5 : loss:  1.1131411790847778 prediction:  [[2 3 2 3 3 3]]\n",
      "    true Y:  [[1, 0, 2, 3, 3, 4]] prediction str:  elelll\n",
      "6 : loss:  1.024188756942749 prediction:  [[2 3 2 3 3 4]]\n",
      "    true Y:  [[1, 0, 2, 3, 3, 4]] prediction str:  elello\n",
      "7 : loss:  0.9573155045509338 prediction:  [[2 3 2 3 3 4]]\n",
      "    true Y:  [[1, 0, 2, 3, 3, 4]] prediction str:  elello\n",
      "8 : loss:  0.9102011322975159 prediction:  [[2 0 2 3 3 4]]\n",
      "    true Y:  [[1, 0, 2, 3, 3, 4]] prediction str:  ehello\n",
      "9 : loss:  0.8731772303581238 prediction:  [[1 0 2 3 3 4]]\n",
      "    true Y:  [[1, 0, 2, 3, 3, 4]] prediction str:  ihello\n",
      "10 : loss:  0.8399624824523926 prediction:  [[1 0 2 3 3 4]]\n",
      "    true Y:  [[1, 0, 2, 3, 3, 4]] prediction str:  ihello\n",
      "11 : loss:  0.8088951110839844 prediction:  [[1 0 2 3 3 4]]\n",
      "    true Y:  [[1, 0, 2, 3, 3, 4]] prediction str:  ihello\n",
      "12 : loss:  0.7812867760658264 prediction:  [[1 0 2 3 3 4]]\n",
      "    true Y:  [[1, 0, 2, 3, 3, 4]] prediction str:  ihello\n",
      "13 : loss:  0.7585349082946777 prediction:  [[1 3 2 3 3 4]]\n",
      "    true Y:  [[1, 0, 2, 3, 3, 4]] prediction str:  ilello\n",
      "14 : loss:  0.7401294112205505 prediction:  [[1 3 2 3 3 4]]\n",
      "    true Y:  [[1, 0, 2, 3, 3, 4]] prediction str:  ilello\n",
      "15 : loss:  0.724358856678009 prediction:  [[1 3 2 3 3 4]]\n",
      "    true Y:  [[1, 0, 2, 3, 3, 4]] prediction str:  ilello\n",
      "16 : loss:  0.709122359752655 prediction:  [[1 3 2 3 3 4]]\n",
      "    true Y:  [[1, 0, 2, 3, 3, 4]] prediction str:  ilello\n",
      "17 : loss:  0.6929270625114441 prediction:  [[1 3 2 3 3 4]]\n",
      "    true Y:  [[1, 0, 2, 3, 3, 4]] prediction str:  ilello\n",
      "18 : loss:  0.6821210980415344 prediction:  [[1 3 2 3 3 4]]\n",
      "    true Y:  [[1, 0, 2, 3, 3, 4]] prediction str:  ilello\n",
      "19 : loss:  0.6735268235206604 prediction:  [[1 3 2 3 3 4]]\n",
      "    true Y:  [[1, 0, 2, 3, 3, 4]] prediction str:  ilello\n",
      "20 : loss:  0.6595445275306702 prediction:  [[1 3 2 3 3 4]]\n",
      "    true Y:  [[1, 0, 2, 3, 3, 4]] prediction str:  ilello\n",
      "21 : loss:  0.6534828543663025 prediction:  [[1 3 2 3 3 4]]\n",
      "    true Y:  [[1, 0, 2, 3, 3, 4]] prediction str:  ilello\n",
      "22 : loss:  0.6465457081794739 prediction:  [[1 3 2 3 3 4]]\n",
      "    true Y:  [[1, 0, 2, 3, 3, 4]] prediction str:  ilello\n",
      "23 : loss:  0.6398184895515442 prediction:  [[1 3 2 3 3 4]]\n",
      "    true Y:  [[1, 0, 2, 3, 3, 4]] prediction str:  ilello\n",
      "24 : loss:  0.6381521821022034 prediction:  [[1 3 2 3 3 4]]\n",
      "    true Y:  [[1, 0, 2, 3, 3, 4]] prediction str:  ilello\n",
      "25 : loss:  0.6326717734336853 prediction:  [[1 3 2 3 3 4]]\n",
      "    true Y:  [[1, 0, 2, 3, 3, 4]] prediction str:  ilello\n",
      "26 : loss:  0.6256727576255798 prediction:  [[1 3 2 3 3 4]]\n",
      "    true Y:  [[1, 0, 2, 3, 3, 4]] prediction str:  ilello\n",
      "27 : loss:  0.6215078830718994 prediction:  [[1 3 2 3 3 4]]\n",
      "    true Y:  [[1, 0, 2, 3, 3, 4]] prediction str:  ilello\n",
      "28 : loss:  0.6167050004005432 prediction:  [[1 3 2 3 3 4]]\n",
      "    true Y:  [[1, 0, 2, 3, 3, 4]] prediction str:  ilello\n",
      "29 : loss:  0.6099357008934021 prediction:  [[1 3 2 3 3 4]]\n",
      "    true Y:  [[1, 0, 2, 3, 3, 4]] prediction str:  ilello\n",
      "30 : loss:  0.6030192971229553 prediction:  [[1 3 2 3 3 4]]\n",
      "    true Y:  [[1, 0, 2, 3, 3, 4]] prediction str:  ilello\n",
      "31 : loss:  0.5992398858070374 prediction:  [[1 3 2 3 3 4]]\n",
      "    true Y:  [[1, 0, 2, 3, 3, 4]] prediction str:  ilello\n",
      "32 : loss:  0.5964334011077881 prediction:  [[1 3 2 3 3 4]]\n",
      "    true Y:  [[1, 0, 2, 3, 3, 4]] prediction str:  ilello\n",
      "33 : loss:  0.5916643142700195 prediction:  [[1 3 2 3 3 4]]\n",
      "    true Y:  [[1, 0, 2, 3, 3, 4]] prediction str:  ilello\n",
      "34 : loss:  0.5881562829017639 prediction:  [[1 3 2 3 3 4]]\n",
      "    true Y:  [[1, 0, 2, 3, 3, 4]] prediction str:  ilello\n",
      "35 : loss:  0.5854336619377136 prediction:  [[1 3 2 3 3 4]]\n",
      "    true Y:  [[1, 0, 2, 3, 3, 4]] prediction str:  ilello\n",
      "36 : loss:  0.5813184380531311 prediction:  [[1 3 2 3 3 4]]\n",
      "    true Y:  [[1, 0, 2, 3, 3, 4]] prediction str:  ilello\n",
      "37 : loss:  0.5761862397193909 prediction:  [[1 3 2 3 3 4]]\n",
      "    true Y:  [[1, 0, 2, 3, 3, 4]] prediction str:  ilello\n",
      "38 : loss:  0.5734922289848328 prediction:  [[1 3 2 3 3 4]]\n",
      "    true Y:  [[1, 0, 2, 3, 3, 4]] prediction str:  ilello\n",
      "39 : loss:  0.5727553367614746 prediction:  [[1 3 2 3 3 4]]\n",
      "    true Y:  [[1, 0, 2, 3, 3, 4]] prediction str:  ilello\n",
      "40 : loss:  0.5682080388069153 prediction:  [[1 3 2 3 3 4]]\n",
      "    true Y:  [[1, 0, 2, 3, 3, 4]] prediction str:  ilello\n",
      "41 : loss:  0.5656264424324036 prediction:  [[1 3 2 3 3 4]]\n",
      "    true Y:  [[1, 0, 2, 3, 3, 4]] prediction str:  ilello\n",
      "42 : loss:  0.5647332668304443 prediction:  [[1 3 2 3 3 4]]\n",
      "    true Y:  [[1, 0, 2, 3, 3, 4]] prediction str:  ilello\n",
      "43 : loss:  0.5629464983940125 prediction:  [[1 3 2 3 3 4]]\n",
      "    true Y:  [[1, 0, 2, 3, 3, 4]] prediction str:  ilello\n",
      "44 : loss:  0.5603763461112976 prediction:  [[1 3 2 3 3 4]]\n",
      "    true Y:  [[1, 0, 2, 3, 3, 4]] prediction str:  ilello\n",
      "45 : loss:  0.5588171482086182 prediction:  [[1 3 2 3 3 4]]\n",
      "    true Y:  [[1, 0, 2, 3, 3, 4]] prediction str:  ilello\n",
      "46 : loss:  0.5584632754325867 prediction:  [[1 3 2 3 3 4]]\n",
      "    true Y:  [[1, 0, 2, 3, 3, 4]] prediction str:  ilello\n",
      "47 : loss:  0.5565394759178162 prediction:  [[1 3 2 3 3 4]]\n",
      "    true Y:  [[1, 0, 2, 3, 3, 4]] prediction str:  ilello\n",
      "48 : loss:  0.5548029541969299 prediction:  [[1 3 2 3 3 4]]\n",
      "    true Y:  [[1, 0, 2, 3, 3, 4]] prediction str:  ilello\n",
      "49 : loss:  0.5542734265327454 prediction:  [[1 3 2 3 3 4]]\n",
      "    true Y:  [[1, 0, 2, 3, 3, 4]] prediction str:  ilello\n",
      "50 : loss:  0.5534437894821167 prediction:  [[1 3 2 3 3 4]]\n",
      "    true Y:  [[1, 0, 2, 3, 3, 4]] prediction str:  ilello\n",
      "51 : loss:  0.5520093441009521 prediction:  [[1 3 2 3 3 4]]\n",
      "    true Y:  [[1, 0, 2, 3, 3, 4]] prediction str:  ilello\n",
      "52 : loss:  0.5510938167572021 prediction:  [[1 3 2 3 3 4]]\n",
      "    true Y:  [[1, 0, 2, 3, 3, 4]] prediction str:  ilello\n",
      "53 : loss:  0.5506715178489685 prediction:  [[1 3 2 3 3 4]]\n",
      "    true Y:  [[1, 0, 2, 3, 3, 4]] prediction str:  ilello\n",
      "54 : loss:  0.549363911151886 prediction:  [[1 3 2 3 3 4]]\n",
      "    true Y:  [[1, 0, 2, 3, 3, 4]] prediction str:  ilello\n",
      "55 : loss:  0.5483368039131165 prediction:  [[1 3 2 3 3 4]]\n",
      "    true Y:  [[1, 0, 2, 3, 3, 4]] prediction str:  ilello\n",
      "56 : loss:  0.5478049516677856 prediction:  [[1 3 2 3 3 4]]\n",
      "    true Y:  [[1, 0, 2, 3, 3, 4]] prediction str:  ilello\n",
      "57 : loss:  0.5469380617141724 prediction:  [[1 3 2 3 3 4]]\n",
      "    true Y:  [[1, 0, 2, 3, 3, 4]] prediction str:  ilello\n",
      "58 : loss:  0.5459225177764893 prediction:  [[1 3 2 3 3 4]]\n",
      "    true Y:  [[1, 0, 2, 3, 3, 4]] prediction str:  ilello\n",
      "59 : loss:  0.5454026460647583 prediction:  [[1 3 2 3 3 4]]\n",
      "    true Y:  [[1, 0, 2, 3, 3, 4]] prediction str:  ilello\n",
      "60 : loss:  0.544852077960968 prediction:  [[1 3 2 3 3 4]]\n",
      "    true Y:  [[1, 0, 2, 3, 3, 4]] prediction str:  ilello\n",
      "61 : loss:  0.5439804196357727 prediction:  [[1 3 2 3 3 4]]\n",
      "    true Y:  [[1, 0, 2, 3, 3, 4]] prediction str:  ilello\n",
      "62 : loss:  0.5434582233428955 prediction:  [[1 3 2 3 3 4]]\n",
      "    true Y:  [[1, 0, 2, 3, 3, 4]] prediction str:  ilello\n",
      "63 : loss:  0.54298335313797 prediction:  [[1 3 2 3 3 4]]\n",
      "    true Y:  [[1, 0, 2, 3, 3, 4]] prediction str:  ilello\n",
      "64 : loss:  0.5422741770744324 prediction:  [[1 3 2 3 3 4]]\n",
      "    true Y:  [[1, 0, 2, 3, 3, 4]] prediction str:  ilello\n",
      "65 : loss:  0.5417041182518005 prediction:  [[1 3 2 3 3 4]]\n",
      "    true Y:  [[1, 0, 2, 3, 3, 4]] prediction str:  ilello\n",
      "66 : loss:  0.5413307547569275 prediction:  [[1 3 2 3 3 4]]\n",
      "    true Y:  [[1, 0, 2, 3, 3, 4]] prediction str:  ilello\n",
      "67 : loss:  0.5407487750053406 prediction:  [[1 3 2 3 3 4]]\n",
      "    true Y:  [[1, 0, 2, 3, 3, 4]] prediction str:  ilello\n",
      "68 : loss:  0.5402576327323914 prediction:  [[1 3 2 3 3 4]]\n",
      "    true Y:  [[1, 0, 2, 3, 3, 4]] prediction str:  ilello\n",
      "69 : loss:  0.5399189591407776 prediction:  [[1 3 2 3 3 4]]\n",
      "    true Y:  [[1, 0, 2, 3, 3, 4]] prediction str:  ilello\n",
      "70 : loss:  0.5394622683525085 prediction:  [[1 3 2 3 3 4]]\n",
      "    true Y:  [[1, 0, 2, 3, 3, 4]] prediction str:  ilello\n",
      "71 : loss:  0.5390090942382812 prediction:  [[1 3 2 3 3 4]]\n",
      "    true Y:  [[1, 0, 2, 3, 3, 4]] prediction str:  ilello\n",
      "72 : loss:  0.5387027263641357 prediction:  [[1 3 2 3 3 4]]\n",
      "    true Y:  [[1, 0, 2, 3, 3, 4]] prediction str:  ilello\n",
      "73 : loss:  0.5383159518241882 prediction:  [[1 3 2 3 3 4]]\n",
      "    true Y:  [[1, 0, 2, 3, 3, 4]] prediction str:  ilello\n",
      "74 : loss:  0.5379175543785095 prediction:  [[1 3 2 3 3 4]]\n",
      "    true Y:  [[1, 0, 2, 3, 3, 4]] prediction str:  ilello\n",
      "75 : loss:  0.5376288890838623 prediction:  [[1 3 2 3 3 4]]\n",
      "    true Y:  [[1, 0, 2, 3, 3, 4]] prediction str:  ilello\n",
      "76 : loss:  0.5372945666313171 prediction:  [[1 3 2 3 3 4]]\n",
      "    true Y:  [[1, 0, 2, 3, 3, 4]] prediction str:  ilello\n",
      "77 : loss:  0.5369361639022827 prediction:  [[1 3 2 3 3 4]]\n",
      "    true Y:  [[1, 0, 2, 3, 3, 4]] prediction str:  ilello\n",
      "78 : loss:  0.5366637110710144 prediction:  [[1 3 2 3 3 4]]\n",
      "    true Y:  [[1, 0, 2, 3, 3, 4]] prediction str:  ilello\n",
      "79 : loss:  0.5363659858703613 prediction:  [[1 3 2 3 3 4]]\n",
      "    true Y:  [[1, 0, 2, 3, 3, 4]] prediction str:  ilello\n",
      "80 : loss:  0.53604656457901 prediction:  [[1 3 2 3 3 4]]\n",
      "    true Y:  [[1, 0, 2, 3, 3, 4]] prediction str:  ilello\n",
      "81 : loss:  0.5357930064201355 prediction:  [[1 3 2 3 3 4]]\n",
      "    true Y:  [[1, 0, 2, 3, 3, 4]] prediction str:  ilello\n",
      "82 : loss:  0.5355222821235657 prediction:  [[1 3 2 3 3 4]]\n",
      "    true Y:  [[1, 0, 2, 3, 3, 4]] prediction str:  ilello\n",
      "83 : loss:  0.535235583782196 prediction:  [[1 3 2 3 3 4]]\n",
      "    true Y:  [[1, 0, 2, 3, 3, 4]] prediction str:  ilello\n",
      "84 : loss:  0.5349991321563721 prediction:  [[1 3 2 3 3 4]]\n",
      "    true Y:  [[1, 0, 2, 3, 3, 4]] prediction str:  ilello\n",
      "85 : loss:  0.5347509980201721 prediction:  [[1 3 2 3 3 4]]\n",
      "    true Y:  [[1, 0, 2, 3, 3, 4]] prediction str:  ilello\n",
      "86 : loss:  0.5344937443733215 prediction:  [[1 3 2 3 3 4]]\n",
      "    true Y:  [[1, 0, 2, 3, 3, 4]] prediction str:  ilello\n",
      "87 : loss:  0.5342754125595093 prediction:  [[1 3 2 3 3 4]]\n",
      "    true Y:  [[1, 0, 2, 3, 3, 4]] prediction str:  ilello\n",
      "88 : loss:  0.5340464115142822 prediction:  [[1 3 2 3 3 4]]\n",
      "    true Y:  [[1, 0, 2, 3, 3, 4]] prediction str:  ilello\n",
      "89 : loss:  0.5338148474693298 prediction:  [[1 3 2 3 3 4]]\n",
      "    true Y:  [[1, 0, 2, 3, 3, 4]] prediction str:  ilello\n",
      "90 : loss:  0.5336135029792786 prediction:  [[1 3 2 3 3 4]]\n",
      "    true Y:  [[1, 0, 2, 3, 3, 4]] prediction str:  ilello\n",
      "91 : loss:  0.5334023833274841 prediction:  [[1 3 2 3 3 4]]\n",
      "    true Y:  [[1, 0, 2, 3, 3, 4]] prediction str:  ilello\n",
      "92 : loss:  0.5331949591636658 prediction:  [[1 3 2 3 3 4]]\n",
      "    true Y:  [[1, 0, 2, 3, 3, 4]] prediction str:  ilello\n",
      "93 : loss:  0.5330093502998352 prediction:  [[1 3 2 3 3 4]]\n",
      "    true Y:  [[1, 0, 2, 3, 3, 4]] prediction str:  ilello\n",
      "94 : loss:  0.53281569480896 prediction:  [[1 3 2 3 3 4]]\n",
      "    true Y:  [[1, 0, 2, 3, 3, 4]] prediction str:  ilello\n",
      "95 : loss:  0.5326292514801025 prediction:  [[1 3 2 3 3 4]]\n",
      "    true Y:  [[1, 0, 2, 3, 3, 4]] prediction str:  ilello\n",
      "96 : loss:  0.5324582457542419 prediction:  [[1 3 2 3 3 4]]\n",
      "    true Y:  [[1, 0, 2, 3, 3, 4]] prediction str:  ilello\n",
      "97 : loss:  0.5322802066802979 prediction:  [[1 3 2 3 3 4]]\n",
      "    true Y:  [[1, 0, 2, 3, 3, 4]] prediction str:  ilello\n",
      "98 : loss:  0.5321123003959656 prediction:  [[1 3 2 3 3 4]]\n",
      "    true Y:  [[1, 0, 2, 3, 3, 4]] prediction str:  ilello\n",
      "99 : loss:  0.5319532155990601 prediction:  [[1 3 2 3 3 4]]\n",
      "    true Y:  [[1, 0, 2, 3, 3, 4]] prediction str:  ilello\n",
      "100 : loss:  0.5317898392677307 prediction:  [[1 3 2 3 3 4]]\n",
      "    true Y:  [[1, 0, 2, 3, 3, 4]] prediction str:  ilello\n"
     ]
    }
   ],
   "source": [
    "# start training\n",
    "for i in range(100):\n",
    "    # 결과 예측\n",
    "    outputs, _status = rnn(X)\n",
    "    # Loss 계산\n",
    "    loss = criterion(outputs.view(-1, input_size), Y.view(-1))\n",
    "    \n",
    "    optimizer.zero_grad()  # 기울기 초기화\n",
    "    loss.backward()        # Backpropagation\n",
    "    optimizer.step()       # Weight Update\n",
    "    \n",
    "    result = outputs.data.numpy().argmax(axis = 2)  # result.shape = (1,6) - (batch,sequence,feature)\n",
    "    # 원래 result의 shape은 (1,6,5)지만 argmax를 통해서 2번째 차원에 대해 최대값을 구했기 때문에 (1,6)이 된다.\n",
    "    result_str = ''.join([char_set[c] for c in np.squeeze(result)])      # result_str = 'ilello'\n",
    "    # squeeze는 차원이 1인 부분을 없애주는 함수\n",
    "    # python의 join함수를 통해 result에 관한 str을 만든다.\n",
    "    print(i+1, \": loss: \", loss.item(), \"prediction: \", result)\n",
    "    print(\"    true Y: \", y_data, \"prediction str: \", result_str)"
   ]
  },
  {
   "cell_type": "markdown",
   "metadata": {},
   "source": [
    "## Charseq Example (Generalization version)"
   ]
  },
  {
   "cell_type": "code",
   "execution_count": 11,
   "metadata": {},
   "outputs": [],
   "source": [
    "sample = \" if you want you\""
   ]
  },
  {
   "cell_type": "code",
   "execution_count": 12,
   "metadata": {},
   "outputs": [
    {
     "name": "stdout",
     "output_type": "stream",
     "text": [
      "{'i': 0, 'n': 1, 'u': 2, 'a': 3, 'f': 4, ' ': 5, 't': 6, 'y': 7, 'w': 8, 'o': 9}\n"
     ]
    }
   ],
   "source": [
    "# make dictionary\n",
    "char_set = list(set(sample))\n",
    "char_dic = {c: i for i, c in enumerate(char_set)}\n",
    "print(char_dic)"
   ]
  },
  {
   "cell_type": "code",
   "execution_count": 13,
   "metadata": {},
   "outputs": [],
   "source": [
    "# hyper parameters\n",
    "dic_size = len(char_dic)\n",
    "hidden_size = len(char_dic)\n",
    "learning_rate = 0.1"
   ]
  },
  {
   "cell_type": "markdown",
   "metadata": {},
   "source": [
    "### Data Setting\n",
    "- np.eye : 단위행렬을 만들어주는 함수"
   ]
  },
  {
   "cell_type": "code",
   "execution_count": 14,
   "metadata": {},
   "outputs": [],
   "source": [
    "# data setting\n",
    "sample_idx = [char_dic[c] for c in sample]\n",
    "x_data = [sample_idx[:-1]]  # 맨 마지막 문자 제외\n",
    "x_one_hot = [np.eye(dic_size)[x] for x in x_data]\n",
    "y_data = [sample_idx[1:]]    # 맨 첫번째 문자 제외"
   ]
  },
  {
   "cell_type": "markdown",
   "metadata": {},
   "source": [
    "### Torch의 Tensor 변수로 바꾸기"
   ]
  },
  {
   "cell_type": "code",
   "execution_count": 15,
   "metadata": {},
   "outputs": [],
   "source": [
    "# transform as torch tensor variable\n",
    "X = torch.FloatTensor(x_one_hot)\n",
    "Y = torch.LongTensor(y_data)"
   ]
  },
  {
   "cell_type": "markdown",
   "metadata": {},
   "source": [
    "## RNN 정의"
   ]
  },
  {
   "cell_type": "code",
   "execution_count": 16,
   "metadata": {},
   "outputs": [],
   "source": [
    "# declare RNN\n",
    "rnn = torch.nn.RNN(dic_size, hidden_size, batch_first=True)"
   ]
  },
  {
   "cell_type": "code",
   "execution_count": 17,
   "metadata": {},
   "outputs": [],
   "source": [
    "# loss & optimizer setting\n",
    "criterion = torch.nn.CrossEntropyLoss()\n",
    "optimizer = optim.Adam(rnn.parameters(), learning_rate)"
   ]
  },
  {
   "cell_type": "markdown",
   "metadata": {},
   "source": [
    "## Training"
   ]
  },
  {
   "cell_type": "code",
   "execution_count": 18,
   "metadata": {},
   "outputs": [
    {
     "name": "stdout",
     "output_type": "stream",
     "text": [
      "1 : loss:  2.4410319328308105 prediction:  [[1 8 1 3 8 9 3 1 9 3 3 8 1 8 3]]\n",
      "    true Y:  [[0, 4, 5, 7, 9, 2, 5, 8, 3, 1, 6, 5, 7, 9, 2]] prediction str:  nwnawoanoaawnwa\n",
      "2 : loss:  2.076482057571411 prediction:  [[7 3 9 2 9 2 9 7 9 9 7 9 7 9 2]]\n",
      "    true Y:  [[0, 4, 5, 7, 9, 2, 5, 8, 3, 1, 6, 5, 7, 9, 2]] prediction str:  yaououoyooyoyou\n",
      "3 : loss:  1.808059811592102 prediction:  [[7 4 5 7 9 2 2 7 5 1 7 9 7 9 2]]\n",
      "    true Y:  [[0, 4, 5, 7, 9, 2, 5, 8, 3, 1, 6, 5, 7, 9, 2]] prediction str:  yf youuy nyoyou\n",
      "4 : loss:  1.6273118257522583 prediction:  [[7 5 5 7 9 2 5 7 5 1 7 5 7 3 2]]\n",
      "    true Y:  [[0, 4, 5, 7, 9, 2, 5, 8, 3, 1, 6, 5, 7, 9, 2]] prediction str:  y  you y ny yau\n",
      "5 : loss:  1.5096145868301392 prediction:  [[7 5 5 7 9 2 5 7 5 1 6 5 7 9 2]]\n",
      "    true Y:  [[0, 4, 5, 7, 9, 2, 5, 8, 3, 1, 6, 5, 7, 9, 2]] prediction str:  y  you y nt you\n",
      "6 : loss:  1.4093328714370728 prediction:  [[7 5 5 7 9 2 5 7 5 1 6 5 7 9 2]]\n",
      "    true Y:  [[0, 4, 5, 7, 9, 2, 5, 8, 3, 1, 6, 5, 7, 9, 2]] prediction str:  y  you y nt you\n",
      "7 : loss:  1.3194977045059204 prediction:  [[8 4 5 7 9 2 5 7 5 1 6 5 7 9 2]]\n",
      "    true Y:  [[0, 4, 5, 7, 9, 2, 5, 8, 3, 1, 6, 5, 7, 9, 2]] prediction str:  wf you y nt you\n",
      "8 : loss:  1.2477104663848877 prediction:  [[0 4 5 7 9 2 5 7 5 1 6 5 7 9 2]]\n",
      "    true Y:  [[0, 4, 5, 7, 9, 2, 5, 8, 3, 1, 6, 5, 7, 9, 2]] prediction str:  if you y nt you\n",
      "9 : loss:  1.1791268587112427 prediction:  [[0 4 5 7 9 2 5 8 5 1 6 5 7 9 2]]\n",
      "    true Y:  [[0, 4, 5, 7, 9, 2, 5, 8, 3, 1, 6, 5, 7, 9, 2]] prediction str:  if you w nt you\n",
      "10 : loss:  1.122236967086792 prediction:  [[0 4 5 7 9 2 5 8 5 1 6 5 7 9 2]]\n",
      "    true Y:  [[0, 4, 5, 7, 9, 2, 5, 8, 3, 1, 6, 5, 7, 9, 2]] prediction str:  if you w nt you\n",
      "11 : loss:  1.0853649377822876 prediction:  [[0 4 5 7 9 2 5 8 5 1 6 5 7 9 2]]\n",
      "    true Y:  [[0, 4, 5, 7, 9, 2, 5, 8, 3, 1, 6, 5, 7, 9, 2]] prediction str:  if you w nt you\n",
      "12 : loss:  1.052100419998169 prediction:  [[0 4 5 7 9 2 5 8 5 1 6 5 7 9 2]]\n",
      "    true Y:  [[0, 4, 5, 7, 9, 2, 5, 8, 3, 1, 6, 5, 7, 9, 2]] prediction str:  if you w nt you\n",
      "13 : loss:  1.0271061658859253 prediction:  [[0 4 5 7 9 2 5 8 3 1 6 5 7 9 2]]\n",
      "    true Y:  [[0, 4, 5, 7, 9, 2, 5, 8, 3, 1, 6, 5, 7, 9, 2]] prediction str:  if you want you\n",
      "14 : loss:  1.0040024518966675 prediction:  [[0 4 5 7 9 2 5 8 3 1 6 5 7 9 2]]\n",
      "    true Y:  [[0, 4, 5, 7, 9, 2, 5, 8, 3, 1, 6, 5, 7, 9, 2]] prediction str:  if you want you\n",
      "15 : loss:  0.9840348362922668 prediction:  [[0 4 5 7 9 2 5 8 3 1 6 5 7 9 2]]\n",
      "    true Y:  [[0, 4, 5, 7, 9, 2, 5, 8, 3, 1, 6, 5, 7, 9, 2]] prediction str:  if you want you\n",
      "16 : loss:  0.9637784957885742 prediction:  [[0 4 5 7 9 2 5 8 3 1 6 5 7 9 2]]\n",
      "    true Y:  [[0, 4, 5, 7, 9, 2, 5, 8, 3, 1, 6, 5, 7, 9, 2]] prediction str:  if you want you\n",
      "17 : loss:  0.953359067440033 prediction:  [[0 4 5 7 9 2 5 8 3 1 6 5 7 9 2]]\n",
      "    true Y:  [[0, 4, 5, 7, 9, 2, 5, 8, 3, 1, 6, 5, 7, 9, 2]] prediction str:  if you want you\n",
      "18 : loss:  0.9412604570388794 prediction:  [[0 4 5 7 9 2 5 8 3 1 6 5 7 9 2]]\n",
      "    true Y:  [[0, 4, 5, 7, 9, 2, 5, 8, 3, 1, 6, 5, 7, 9, 2]] prediction str:  if you want you\n",
      "19 : loss:  0.9290281534194946 prediction:  [[0 4 5 7 9 2 5 8 3 1 6 5 7 9 2]]\n",
      "    true Y:  [[0, 4, 5, 7, 9, 2, 5, 8, 3, 1, 6, 5, 7, 9, 2]] prediction str:  if you want you\n",
      "20 : loss:  0.9210976958274841 prediction:  [[0 4 5 7 9 2 5 8 3 1 6 5 7 9 2]]\n",
      "    true Y:  [[0, 4, 5, 7, 9, 2, 5, 8, 3, 1, 6, 5, 7, 9, 2]] prediction str:  if you want you\n",
      "21 : loss:  0.9125314354896545 prediction:  [[0 4 5 7 9 2 5 8 3 1 6 5 7 9 2]]\n",
      "    true Y:  [[0, 4, 5, 7, 9, 2, 5, 8, 3, 1, 6, 5, 7, 9, 2]] prediction str:  if you want you\n",
      "22 : loss:  0.9048216342926025 prediction:  [[0 4 5 7 9 2 5 8 3 1 6 5 7 9 2]]\n",
      "    true Y:  [[0, 4, 5, 7, 9, 2, 5, 8, 3, 1, 6, 5, 7, 9, 2]] prediction str:  if you want you\n",
      "23 : loss:  0.8969507813453674 prediction:  [[0 4 5 7 9 2 5 8 3 1 6 5 7 9 2]]\n",
      "    true Y:  [[0, 4, 5, 7, 9, 2, 5, 8, 3, 1, 6, 5, 7, 9, 2]] prediction str:  if you want you\n",
      "24 : loss:  0.8889473080635071 prediction:  [[0 4 5 7 9 2 5 8 3 1 6 5 7 9 2]]\n",
      "    true Y:  [[0, 4, 5, 7, 9, 2, 5, 8, 3, 1, 6, 5, 7, 9, 2]] prediction str:  if you want you\n",
      "25 : loss:  0.8830642700195312 prediction:  [[0 4 5 7 9 2 5 8 3 1 6 5 7 9 2]]\n",
      "    true Y:  [[0, 4, 5, 7, 9, 2, 5, 8, 3, 1, 6, 5, 7, 9, 2]] prediction str:  if you want you\n",
      "26 : loss:  0.8783376216888428 prediction:  [[0 4 5 7 9 2 5 8 3 1 6 5 7 9 2]]\n",
      "    true Y:  [[0, 4, 5, 7, 9, 2, 5, 8, 3, 1, 6, 5, 7, 9, 2]] prediction str:  if you want you\n",
      "27 : loss:  0.8737648129463196 prediction:  [[0 4 5 7 9 2 5 8 3 1 6 5 7 9 2]]\n",
      "    true Y:  [[0, 4, 5, 7, 9, 2, 5, 8, 3, 1, 6, 5, 7, 9, 2]] prediction str:  if you want you\n",
      "28 : loss:  0.8698472380638123 prediction:  [[0 4 5 7 9 2 5 8 3 1 6 5 7 9 2]]\n",
      "    true Y:  [[0, 4, 5, 7, 9, 2, 5, 8, 3, 1, 6, 5, 7, 9, 2]] prediction str:  if you want you\n",
      "29 : loss:  0.8669244050979614 prediction:  [[0 4 5 7 9 2 5 8 3 1 6 5 7 9 2]]\n",
      "    true Y:  [[0, 4, 5, 7, 9, 2, 5, 8, 3, 1, 6, 5, 7, 9, 2]] prediction str:  if you want you\n",
      "30 : loss:  0.8642958402633667 prediction:  [[0 4 5 7 9 2 5 8 3 1 6 5 7 9 2]]\n",
      "    true Y:  [[0, 4, 5, 7, 9, 2, 5, 8, 3, 1, 6, 5, 7, 9, 2]] prediction str:  if you want you\n",
      "31 : loss:  0.861743688583374 prediction:  [[0 4 5 7 9 2 5 8 3 1 6 5 7 9 2]]\n",
      "    true Y:  [[0, 4, 5, 7, 9, 2, 5, 8, 3, 1, 6, 5, 7, 9, 2]] prediction str:  if you want you\n",
      "32 : loss:  0.8595075011253357 prediction:  [[0 4 5 7 9 2 5 8 3 1 6 5 7 9 2]]\n",
      "    true Y:  [[0, 4, 5, 7, 9, 2, 5, 8, 3, 1, 6, 5, 7, 9, 2]] prediction str:  if you want you\n",
      "33 : loss:  0.8573101758956909 prediction:  [[0 4 5 7 9 2 5 8 3 1 6 5 7 9 2]]\n",
      "    true Y:  [[0, 4, 5, 7, 9, 2, 5, 8, 3, 1, 6, 5, 7, 9, 2]] prediction str:  if you want you\n",
      "34 : loss:  0.8550954461097717 prediction:  [[0 4 5 7 9 2 5 8 3 1 6 5 7 9 2]]\n",
      "    true Y:  [[0, 4, 5, 7, 9, 2, 5, 8, 3, 1, 6, 5, 7, 9, 2]] prediction str:  if you want you\n",
      "35 : loss:  0.8531737923622131 prediction:  [[0 4 5 7 9 2 5 8 3 1 6 5 7 9 2]]\n",
      "    true Y:  [[0, 4, 5, 7, 9, 2, 5, 8, 3, 1, 6, 5, 7, 9, 2]] prediction str:  if you want you\n",
      "36 : loss:  0.851504385471344 prediction:  [[0 4 5 7 9 2 5 8 3 1 6 5 7 9 2]]\n",
      "    true Y:  [[0, 4, 5, 7, 9, 2, 5, 8, 3, 1, 6, 5, 7, 9, 2]] prediction str:  if you want you\n",
      "37 : loss:  0.8498457670211792 prediction:  [[0 4 5 7 9 2 5 8 3 1 6 5 7 9 2]]\n",
      "    true Y:  [[0, 4, 5, 7, 9, 2, 5, 8, 3, 1, 6, 5, 7, 9, 2]] prediction str:  if you want you\n",
      "38 : loss:  0.8484420776367188 prediction:  [[0 4 5 7 9 2 5 8 3 1 6 5 7 9 2]]\n",
      "    true Y:  [[0, 4, 5, 7, 9, 2, 5, 8, 3, 1, 6, 5, 7, 9, 2]] prediction str:  if you want you\n",
      "39 : loss:  0.847199559211731 prediction:  [[0 4 5 7 9 2 5 8 3 1 6 5 7 9 2]]\n",
      "    true Y:  [[0, 4, 5, 7, 9, 2, 5, 8, 3, 1, 6, 5, 7, 9, 2]] prediction str:  if you want you\n",
      "40 : loss:  0.8459720015525818 prediction:  [[0 4 5 7 9 2 5 8 3 1 6 5 7 9 2]]\n",
      "    true Y:  [[0, 4, 5, 7, 9, 2, 5, 8, 3, 1, 6, 5, 7, 9, 2]] prediction str:  if you want you\n",
      "41 : loss:  0.8448848724365234 prediction:  [[0 4 5 7 9 2 5 8 3 1 6 5 7 9 2]]\n",
      "    true Y:  [[0, 4, 5, 7, 9, 2, 5, 8, 3, 1, 6, 5, 7, 9, 2]] prediction str:  if you want you\n",
      "42 : loss:  0.8438863158226013 prediction:  [[0 4 5 7 9 2 5 8 3 1 6 5 7 9 2]]\n",
      "    true Y:  [[0, 4, 5, 7, 9, 2, 5, 8, 3, 1, 6, 5, 7, 9, 2]] prediction str:  if you want you\n",
      "43 : loss:  0.8427985906600952 prediction:  [[0 4 5 7 9 2 5 8 3 1 6 5 7 9 2]]\n",
      "    true Y:  [[0, 4, 5, 7, 9, 2, 5, 8, 3, 1, 6, 5, 7, 9, 2]] prediction str:  if you want you\n",
      "44 : loss:  0.8416855335235596 prediction:  [[0 4 5 7 9 2 5 8 3 1 6 5 7 9 2]]\n",
      "    true Y:  [[0, 4, 5, 7, 9, 2, 5, 8, 3, 1, 6, 5, 7, 9, 2]] prediction str:  if you want you\n",
      "45 : loss:  0.8403857350349426 prediction:  [[0 4 5 7 9 2 5 8 3 1 6 5 7 9 2]]\n",
      "    true Y:  [[0, 4, 5, 7, 9, 2, 5, 8, 3, 1, 6, 5, 7, 9, 2]] prediction str:  if you want you\n",
      "46 : loss:  0.8386352062225342 prediction:  [[0 4 5 7 9 2 5 8 3 1 6 5 7 9 2]]\n",
      "    true Y:  [[0, 4, 5, 7, 9, 2, 5, 8, 3, 1, 6, 5, 7, 9, 2]] prediction str:  if you want you\n",
      "47 : loss:  0.8362075090408325 prediction:  [[0 4 5 7 9 2 5 8 3 1 6 5 7 9 2]]\n",
      "    true Y:  [[0, 4, 5, 7, 9, 2, 5, 8, 3, 1, 6, 5, 7, 9, 2]] prediction str:  if you want you\n",
      "48 : loss:  0.8327533006668091 prediction:  [[0 4 5 7 9 2 5 8 3 1 6 5 7 9 2]]\n",
      "    true Y:  [[0, 4, 5, 7, 9, 2, 5, 8, 3, 1, 6, 5, 7, 9, 2]] prediction str:  if you want you\n",
      "49 : loss:  0.8289390802383423 prediction:  [[0 4 5 7 9 2 5 8 3 1 6 5 7 9 2]]\n",
      "    true Y:  [[0, 4, 5, 7, 9, 2, 5, 8, 3, 1, 6, 5, 7, 9, 2]] prediction str:  if you want you\n",
      "50 : loss:  0.8279780149459839 prediction:  [[0 4 5 7 9 2 5 8 3 1 6 5 7 9 2]]\n",
      "    true Y:  [[0, 4, 5, 7, 9, 2, 5, 8, 3, 1, 6, 5, 7, 9, 2]] prediction str:  if you want you\n"
     ]
    }
   ],
   "source": [
    "# start training\n",
    "for i in range(50):\n",
    "    \n",
    "    outputs, _status = rnn(X)\n",
    "    loss = criterion(outputs.view(-1, dic_size), Y.view(-1))  # .view를 통해 batch dimension이 앞에 오도록 한다.\n",
    "    \n",
    "    optimizer.zero_grad()\n",
    "    loss.backward()\n",
    "    optimizer.step()\n",
    "\n",
    "    result = outputs.data.numpy().argmax(axis=2)\n",
    "    result_str = ''.join([char_set[c] for c in np.squeeze(result)])\n",
    "    print(i+1, \": loss: \", loss.item(), \"prediction: \", result)\n",
    "    print(\"    true Y: \", y_data, \"prediction str: \", result_str)"
   ]
  }
 ],
 "metadata": {
  "kernelspec": {
   "display_name": "Python 3",
   "language": "python",
   "name": "python3"
  },
  "language_info": {
   "codemirror_mode": {
    "name": "ipython",
    "version": 3
   },
   "file_extension": ".py",
   "mimetype": "text/x-python",
   "name": "python",
   "nbconvert_exporter": "python",
   "pygments_lexer": "ipython3",
   "version": "3.7.9"
  }
 },
 "nbformat": 4,
 "nbformat_minor": 4
}
