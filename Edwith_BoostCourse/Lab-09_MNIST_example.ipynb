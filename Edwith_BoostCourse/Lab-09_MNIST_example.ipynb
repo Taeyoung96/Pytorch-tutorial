{
 "cells": [
  {
   "cell_type": "markdown",
   "metadata": {},
   "source": [
    "## Imports Required Libraries"
   ]
  },
  {
   "cell_type": "code",
   "execution_count": 1,
   "metadata": {},
   "outputs": [],
   "source": [
    "import torch\n",
    "import torchvision.datasets as dsets\n",
    "import torchvision.transforms as transforms\n",
    "import random\n",
    "import torch.nn as nn\n",
    "import torch.optim as optim\n",
    "import matplotlib.pylab as plt"
   ]
  },
  {
   "cell_type": "markdown",
   "metadata": {},
   "source": [
    "## MNIST and Softmax"
   ]
  },
  {
   "cell_type": "code",
   "execution_count": 2,
   "metadata": {},
   "outputs": [],
   "source": [
    "device = 'cuda' if torch.cuda.is_available() else 'cpu'\n",
    "\n",
    "# for reproducibility\n",
    "random.seed(777)\n",
    "torch.manual_seed(777)\n",
    "if device == 'cuda':\n",
    "    torch.cuda.manual_seed_all(777)"
   ]
  },
  {
   "cell_type": "code",
   "execution_count": 3,
   "metadata": {},
   "outputs": [],
   "source": [
    "# parameters\n",
    "learning_rate = 0.001\n",
    "training_epochs = 15\n",
    "batch_size = 100"
   ]
  },
  {
   "cell_type": "markdown",
   "metadata": {},
   "source": [
    "### torchvision.datasets 의 Parameter\n",
    "- root : 데이터셋을 어느 경로에 받을 것인가?\n",
    "- train : Train dataset을 다운 받을 것인지? Test dataset을 다운 받을 것인지?\n",
    "- transform : 일반 이미지 (H,W,C) (픽셀값 : 0 ~ 255) --> Torch에서 쓸 수 있는 이미지 (C,H,W) (픽셀값 : 0 ~ 1)\n",
    "- download : 만약 없을시 다운로드를 할 것인가?"
   ]
  },
  {
   "cell_type": "code",
   "execution_count": 4,
   "metadata": {},
   "outputs": [],
   "source": [
    "# MNIST dataset\n",
    "mnist_train = dsets.MNIST(root='MNIST_data/',\n",
    "                          train=True,\n",
    "                          transform=transforms.ToTensor(),\n",
    "                          download=True)\n",
    "\n",
    "mnist_test = dsets.MNIST(root='MNIST_data/',\n",
    "                         train=False,\n",
    "                         transform=transforms.ToTensor(),\n",
    "                         download=True)"
   ]
  },
  {
   "cell_type": "markdown",
   "metadata": {},
   "source": [
    "### torch.utils.data.DataLoader 의 Parameter\n",
    "- dataset : 어떤 데이터셋을 읽어올 것인지?\n",
    "- batch_size : batch_size를 몇으로 할 것인지?\n",
    "- shuffle : dataset을 섞을 것인지?\n",
    "- drop_last : 만약 batch_size만큼 데이터를 가져왔을 때, 남은 데이터는 어떻게 처리할 것인지?"
   ]
  },
  {
   "cell_type": "code",
   "execution_count": 5,
   "metadata": {},
   "outputs": [],
   "source": [
    "# dataset loader\n",
    "data_loader = torch.utils.data.DataLoader(dataset=mnist_train,\n",
    "                                          batch_size=batch_size,\n",
    "                                          shuffle=True,\n",
    "                                          drop_last=True)"
   ]
  },
  {
   "cell_type": "markdown",
   "metadata": {},
   "source": [
    "### Linear Layer Model"
   ]
  },
  {
   "cell_type": "code",
   "execution_count": 6,
   "metadata": {},
   "outputs": [],
   "source": [
    "# MNIST data image of shape 28 * 28 = 784\n",
    "linear = nn.Linear(784, 10, bias=True).to(device)"
   ]
  },
  {
   "cell_type": "code",
   "execution_count": 7,
   "metadata": {},
   "outputs": [
    {
     "data": {
      "text/plain": [
       "Parameter containing:\n",
       "tensor([[ 0.1816, -0.3203,  0.7464,  ..., -1.1073, -0.9288,  0.0237],\n",
       "        [-0.3739, -0.1353, -1.4771,  ..., -1.0704, -0.2870, -0.8190],\n",
       "        [ 0.6629, -0.8928, -0.1996,  ..., -0.3233, -0.2469, -0.0439],\n",
       "        ...,\n",
       "        [-0.0205,  0.7921,  1.6696,  ...,  0.9601, -1.5459,  1.4929],\n",
       "        [-0.5019, -1.0087,  0.7673,  ...,  1.3801, -0.5147,  2.4057],\n",
       "        [-0.8006,  0.9329,  1.3498,  ..., -0.0187,  1.4246, -0.3995]],\n",
       "       device='cuda:0', requires_grad=True)"
      ]
     },
     "execution_count": 7,
     "metadata": {},
     "output_type": "execute_result"
    }
   ],
   "source": [
    "# Initialization\n",
    "nn.init.normal_(linear.weight)"
   ]
  },
  {
   "cell_type": "code",
   "execution_count": 8,
   "metadata": {},
   "outputs": [],
   "source": [
    "# define cost/loss & optimizer\n",
    "criterion = nn.CrossEntropyLoss().to(device)    # Softmax is internally computed.\n",
    "optimizer = optim.Adam(linear.parameters(), lr=learning_rate)"
   ]
  },
  {
   "cell_type": "markdown",
   "metadata": {},
   "source": [
    "### Train"
   ]
  },
  {
   "cell_type": "code",
   "execution_count": 9,
   "metadata": {},
   "outputs": [
    {
     "name": "stdout",
     "output_type": "stream",
     "text": [
      "Epoch: 0001 cost = 4.848180771\n",
      "Epoch: 0002 cost = 1.464641452\n",
      "Epoch: 0003 cost = 0.977406442\n",
      "Epoch: 0004 cost = 0.790303588\n",
      "Epoch: 0005 cost = 0.686833322\n",
      "Epoch: 0006 cost = 0.618483305\n",
      "Epoch: 0007 cost = 0.568978727\n",
      "Epoch: 0008 cost = 0.531290889\n",
      "Epoch: 0009 cost = 0.501056492\n",
      "Epoch: 0010 cost = 0.476258427\n",
      "Epoch: 0011 cost = 0.455025405\n",
      "Epoch: 0012 cost = 0.437031597\n",
      "Epoch: 0013 cost = 0.421489954\n",
      "Epoch: 0014 cost = 0.408599824\n",
      "Epoch: 0015 cost = 0.396514952\n",
      "Learning finished\n"
     ]
    }
   ],
   "source": [
    "total_batch = len(data_loader)\n",
    "for epoch in range(training_epochs):\n",
    "    avg_cost = 0\n",
    "\n",
    "    for X, Y in data_loader:\n",
    "        # reshape input image into [batch_size by 784]\n",
    "        # label is not one-hot encoded\n",
    "        X = X.view(-1, 28 * 28).to(device)\n",
    "        Y = Y.to(device)\n",
    "\n",
    "        # H(x) 결과\n",
    "        hypothesis = linear(X)\n",
    "        \n",
    "        # cost 계산\n",
    "        cost = criterion(hypothesis, Y)\n",
    "        \n",
    "        # 기울기 값을 이용하여 Weight값 update\n",
    "        optimizer.zero_grad()\n",
    "        cost.backward()\n",
    "        optimizer.step()\n",
    "\n",
    "        avg_cost += cost / total_batch\n",
    "\n",
    "    print('Epoch:', '%04d' % (epoch + 1), 'cost =', '{:.9f}'.format(avg_cost))\n",
    "\n",
    "print('Learning finished')"
   ]
  },
  {
   "cell_type": "markdown",
   "metadata": {},
   "source": [
    "### Test"
   ]
  },
  {
   "cell_type": "code",
   "execution_count": 10,
   "metadata": {},
   "outputs": [
    {
     "name": "stdout",
     "output_type": "stream",
     "text": [
      "Accuracy: 0.8944000005722046\n",
      "Label:  8\n",
      "Prediction:  8\n"
     ]
    }
   ],
   "source": [
    "# Test the model using test sets\n",
    "# 기욹기 값 Update를 하지 않는다.\n",
    "with torch.no_grad():\n",
    "    X_test = mnist_test.data.view(-1, 28 * 28).float().to(device)\n",
    "    Y_test = mnist_test.targets.to(device)\n",
    "    \n",
    "    prediction = linear(X_test)\n",
    "    correct_prediction = torch.argmax(prediction, 1) == Y_test    # correct_prediction.shape = (10000,)\n",
    "    accuracy = correct_prediction.float().mean()\n",
    "    print('Accuracy:', accuracy.item())\n",
    "    \n",
    "    # Get one and predict\n",
    "    r = random.randint(0, len(mnist_test) - 1)\n",
    "    X_single_data = mnist_test.data[r:r + 1].view(-1, 28 * 28).float().to(device)\n",
    "    Y_single_data = mnist_test.targets[r:r + 1].to(device)\n",
    "\n",
    "    print('Label: ', Y_single_data.item())\n",
    "    single_prediction = linear(X_single_data)\n",
    "    print('Prediction: ', torch.argmax(single_prediction, 1).item())\n",
    "    "
   ]
  },
  {
   "cell_type": "markdown",
   "metadata": {},
   "source": [
    "## MNIST and Multi Linear Layers"
   ]
  },
  {
   "cell_type": "code",
   "execution_count": 11,
   "metadata": {},
   "outputs": [],
   "source": [
    "# nn layers\n",
    "linear1 = nn.Linear(784, 256, bias=True)\n",
    "linear2 = nn.Linear(256, 256, bias=True)\n",
    "linear3 = nn.Linear(256, 10, bias=True)\n",
    "relu = nn.ReLU()"
   ]
  },
  {
   "cell_type": "markdown",
   "metadata": {},
   "source": [
    "### Normal Initialization"
   ]
  },
  {
   "cell_type": "code",
   "execution_count": 12,
   "metadata": {},
   "outputs": [
    {
     "data": {
      "text/plain": [
       "Parameter containing:\n",
       "tensor([[-3.1874,  0.7429, -0.6153,  ..., -1.8201,  0.1607, -0.1961],\n",
       "        [ 0.3986, -0.8667, -0.5681,  ...,  0.0619, -2.2653, -0.2265],\n",
       "        [-1.2663,  0.8911, -0.4557,  ...,  1.8710,  0.6392, -0.3189],\n",
       "        ...,\n",
       "        [ 0.6468, -0.6644, -0.6639,  ...,  1.1450, -1.2163,  0.2803],\n",
       "        [-1.0293,  0.2693,  0.8209,  ..., -0.3936, -0.7411,  1.0513],\n",
       "        [ 3.1485,  2.3720,  2.9838,  ...,  1.5475,  0.1471, -1.6560]],\n",
       "       requires_grad=True)"
      ]
     },
     "execution_count": 12,
     "metadata": {},
     "output_type": "execute_result"
    }
   ],
   "source": [
    "# Initialization\n",
    "torch.nn.init.normal_(linear1.weight)\n",
    "torch.nn.init.normal_(linear2.weight)\n",
    "torch.nn.init.normal_(linear3.weight)"
   ]
  },
  {
   "cell_type": "markdown",
   "metadata": {},
   "source": [
    "### Multi Linear Layers Model"
   ]
  },
  {
   "cell_type": "code",
   "execution_count": 13,
   "metadata": {},
   "outputs": [],
   "source": [
    "# model\n",
    "model = nn.Sequential(linear1, relu, linear2, relu, linear3).to(device)"
   ]
  },
  {
   "cell_type": "code",
   "execution_count": 14,
   "metadata": {},
   "outputs": [],
   "source": [
    "# define cost/loss & optimizer\n",
    "criterion = nn.CrossEntropyLoss().to(device)    # Softmax is internally computed.\n",
    "optimizer = optim.Adam(model.parameters(), lr=learning_rate)"
   ]
  },
  {
   "cell_type": "markdown",
   "metadata": {},
   "source": [
    "### Train"
   ]
  },
  {
   "cell_type": "code",
   "execution_count": 15,
   "metadata": {},
   "outputs": [
    {
     "name": "stdout",
     "output_type": "stream",
     "text": [
      "Epoch: 0001 cost = 146.936431885\n",
      "Epoch: 0002 cost = 37.423713684\n",
      "Epoch: 0003 cost = 23.808923721\n",
      "Epoch: 0004 cost = 16.494710922\n",
      "Epoch: 0005 cost = 12.029088974\n",
      "Epoch: 0006 cost = 8.948224068\n",
      "Epoch: 0007 cost = 6.606325150\n",
      "Epoch: 0008 cost = 4.958807468\n",
      "Epoch: 0009 cost = 3.850927353\n",
      "Epoch: 0010 cost = 2.800764084\n",
      "Epoch: 0011 cost = 2.280943394\n",
      "Epoch: 0012 cost = 1.717090249\n",
      "Epoch: 0013 cost = 1.367164135\n",
      "Epoch: 0014 cost = 1.061143994\n",
      "Epoch: 0015 cost = 0.970264137\n",
      "Learning finished\n"
     ]
    }
   ],
   "source": [
    "total_batch = len(data_loader)\n",
    "for epoch in range(training_epochs):\n",
    "    avg_cost = 0\n",
    "\n",
    "    for X, Y in data_loader:\n",
    "        # reshape input image into [batch_size by 784]\n",
    "        # label is not one-hot encoded\n",
    "        X = X.view(-1, 28 * 28).to(device)\n",
    "        Y = Y.to(device)\n",
    "\n",
    "        optimizer.zero_grad()\n",
    "        hypothesis = model(X)\n",
    "        cost = criterion(hypothesis, Y)\n",
    "        cost.backward()\n",
    "        optimizer.step()\n",
    "\n",
    "        avg_cost += cost / total_batch\n",
    "\n",
    "    print('Epoch:', '%04d' % (epoch + 1), 'cost =', '{:.9f}'.format(avg_cost))\n",
    "\n",
    "print('Learning finished')"
   ]
  },
  {
   "cell_type": "markdown",
   "metadata": {},
   "source": [
    "### Test"
   ]
  },
  {
   "cell_type": "code",
   "execution_count": 16,
   "metadata": {},
   "outputs": [
    {
     "name": "stdout",
     "output_type": "stream",
     "text": [
      "Accuracy: 0.8944000005722046\n",
      "Label:  5\n",
      "Prediction:  3\n"
     ]
    }
   ],
   "source": [
    "# Test the model using test sets\n",
    "# 기욹기 값 Update를 하지 않는다.\n",
    "with torch.no_grad():\n",
    "    X_test = mnist_test.data.view(-1, 28 * 28).float().to(device)\n",
    "    Y_test = mnist_test.targets.to(device)\n",
    "    \n",
    "    prediction = linear(X_test)\n",
    "    correct_prediction = torch.argmax(prediction, 1) == Y_test    # correct_prediction.shape = (10000,)\n",
    "    accuracy = correct_prediction.float().mean()\n",
    "    print('Accuracy:', accuracy.item())\n",
    "    \n",
    "    # Get one and predict\n",
    "    r = random.randint(0, len(mnist_test) - 1)\n",
    "    X_single_data = mnist_test.data[r:r + 1].view(-1, 28 * 28).float().to(device)\n",
    "    Y_single_data = mnist_test.targets[r:r + 1].to(device)\n",
    "\n",
    "    print('Label: ', Y_single_data.item())\n",
    "    single_prediction = linear(X_single_data)\n",
    "    print('Prediction: ', torch.argmax(single_prediction, 1).item())\n",
    "    "
   ]
  },
  {
   "cell_type": "markdown",
   "metadata": {},
   "source": [
    "## MNIST and Multi Linear Layers"
   ]
  },
  {
   "cell_type": "code",
   "execution_count": 17,
   "metadata": {},
   "outputs": [],
   "source": [
    "# nn layers\n",
    "linear1 = nn.Linear(784, 256, bias=True)\n",
    "linear2 = nn.Linear(256, 256, bias=True)\n",
    "linear3 = nn.Linear(256, 10, bias=True)\n",
    "relu = nn.ReLU()"
   ]
  },
  {
   "cell_type": "markdown",
   "metadata": {},
   "source": [
    "### Xavier initialization"
   ]
  },
  {
   "cell_type": "code",
   "execution_count": 18,
   "metadata": {},
   "outputs": [
    {
     "data": {
      "text/plain": [
       "Parameter containing:\n",
       "tensor([[-0.1034,  0.0803,  0.0483,  ...,  0.0789, -0.0738, -0.1179],\n",
       "        [-0.0523, -0.0236,  0.1236,  ..., -0.0448,  0.0738,  0.0199],\n",
       "        [ 0.0530, -0.0847, -0.0231,  ..., -0.1392,  0.0770,  0.1188],\n",
       "        ...,\n",
       "        [-0.0402, -0.0703, -0.0954,  ..., -0.0580, -0.0037,  0.0464],\n",
       "        [ 0.0114, -0.0688, -0.0688,  ...,  0.0683, -0.0349,  0.0073],\n",
       "        [-0.0173, -0.0437,  0.1413,  ...,  0.0382,  0.0154,  0.0258]],\n",
       "       requires_grad=True)"
      ]
     },
     "execution_count": 18,
     "metadata": {},
     "output_type": "execute_result"
    }
   ],
   "source": [
    "# xavier initialization\n",
    "torch.nn.init.xavier_uniform_(linear1.weight)\n",
    "torch.nn.init.xavier_uniform_(linear2.weight)\n",
    "torch.nn.init.xavier_uniform_(linear3.weight)"
   ]
  },
  {
   "cell_type": "markdown",
   "metadata": {},
   "source": [
    "### Multi Linear Layers Model"
   ]
  },
  {
   "cell_type": "code",
   "execution_count": 19,
   "metadata": {},
   "outputs": [],
   "source": [
    "# model\n",
    "model = nn.Sequential(linear1, relu, linear2, relu, linear3).to(device)"
   ]
  },
  {
   "cell_type": "code",
   "execution_count": 20,
   "metadata": {},
   "outputs": [],
   "source": [
    "# define cost/loss & optimizer\n",
    "criterion = nn.CrossEntropyLoss().to(device)    # Softmax is internally computed.\n",
    "optimizer = optim.Adam(model.parameters(), lr=learning_rate)"
   ]
  },
  {
   "cell_type": "markdown",
   "metadata": {},
   "source": [
    "### Train"
   ]
  },
  {
   "cell_type": "code",
   "execution_count": 21,
   "metadata": {},
   "outputs": [
    {
     "name": "stdout",
     "output_type": "stream",
     "text": [
      "Epoch: 0001 cost = 0.245722070\n",
      "Epoch: 0002 cost = 0.091757596\n",
      "Epoch: 0003 cost = 0.058979426\n",
      "Epoch: 0004 cost = 0.042520780\n",
      "Epoch: 0005 cost = 0.032603491\n",
      "Epoch: 0006 cost = 0.024328556\n",
      "Epoch: 0007 cost = 0.020250238\n",
      "Epoch: 0008 cost = 0.019761303\n",
      "Epoch: 0009 cost = 0.016615102\n",
      "Epoch: 0010 cost = 0.013518238\n",
      "Epoch: 0011 cost = 0.013306746\n",
      "Epoch: 0012 cost = 0.010901118\n",
      "Epoch: 0013 cost = 0.011769165\n",
      "Epoch: 0014 cost = 0.010773571\n",
      "Epoch: 0015 cost = 0.009021522\n",
      "Learning finished\n"
     ]
    }
   ],
   "source": [
    "total_batch = len(data_loader)\n",
    "for epoch in range(training_epochs):\n",
    "    avg_cost = 0\n",
    "\n",
    "    for X, Y in data_loader:\n",
    "        # reshape input image into [batch_size by 784]\n",
    "        # label is not one-hot encoded\n",
    "        X = X.view(-1, 28 * 28).to(device)\n",
    "        Y = Y.to(device)\n",
    "\n",
    "        optimizer.zero_grad()\n",
    "        hypothesis = model(X)\n",
    "        cost = criterion(hypothesis, Y)\n",
    "        cost.backward()\n",
    "        optimizer.step()\n",
    "\n",
    "        avg_cost += cost / total_batch\n",
    "\n",
    "    print('Epoch:', '%04d' % (epoch + 1), 'cost =', '{:.9f}'.format(avg_cost))\n",
    "\n",
    "print('Learning finished')"
   ]
  },
  {
   "cell_type": "markdown",
   "metadata": {},
   "source": [
    "### Test"
   ]
  },
  {
   "cell_type": "code",
   "execution_count": 22,
   "metadata": {},
   "outputs": [
    {
     "name": "stdout",
     "output_type": "stream",
     "text": [
      "Accuracy: 0.8944000005722046\n",
      "Label:  7\n",
      "Prediction:  7\n"
     ]
    }
   ],
   "source": [
    "# Test the model using test sets\n",
    "# 기욹기 값 Update를 하지 않는다.\n",
    "with torch.no_grad():\n",
    "    X_test = mnist_test.data.view(-1, 28 * 28).float().to(device)\n",
    "    Y_test = mnist_test.targets.to(device)\n",
    "    \n",
    "    prediction = linear(X_test)\n",
    "    correct_prediction = torch.argmax(prediction, 1) == Y_test    # correct_prediction.shape = (10000,)\n",
    "    accuracy = correct_prediction.float().mean()\n",
    "    print('Accuracy:', accuracy.item())\n",
    "    \n",
    "    # Get one and predict\n",
    "    r = random.randint(0, len(mnist_test) - 1)\n",
    "    X_single_data = mnist_test.data[r:r + 1].view(-1, 28 * 28).float().to(device)\n",
    "    Y_single_data = mnist_test.targets[r:r + 1].to(device)\n",
    "\n",
    "    print('Label: ', Y_single_data.item())\n",
    "    single_prediction = linear(X_single_data)\n",
    "    print('Prediction: ', torch.argmax(single_prediction, 1).item())\n",
    "    "
   ]
  },
  {
   "cell_type": "markdown",
   "metadata": {},
   "source": [
    "## MNIST and Deeper Linear Layers"
   ]
  },
  {
   "cell_type": "code",
   "execution_count": 23,
   "metadata": {},
   "outputs": [],
   "source": [
    "# nn layers\n",
    "linear1 = nn.Linear(784, 512, bias=True)\n",
    "linear2 = nn.Linear(512, 512, bias=True)\n",
    "linear3 = nn.Linear(512, 512, bias=True)\n",
    "linear4 = nn.Linear(512, 512, bias=True)\n",
    "linear5 = nn.Linear(512, 10, bias=True)\n",
    "relu = nn.ReLU()"
   ]
  },
  {
   "cell_type": "markdown",
   "metadata": {},
   "source": [
    "### Xavier initialization"
   ]
  },
  {
   "cell_type": "code",
   "execution_count": 24,
   "metadata": {},
   "outputs": [
    {
     "data": {
      "text/plain": [
       "Parameter containing:\n",
       "tensor([[-0.0270, -0.0732,  0.0994,  ...,  0.0691,  0.0720, -0.0588],\n",
       "        [ 0.0511, -0.0340,  0.1058,  ..., -0.0199,  0.0015,  0.0693],\n",
       "        [-0.0655, -0.1059,  0.0663,  ..., -0.0791, -0.0268,  0.0369],\n",
       "        ...,\n",
       "        [-0.0689,  0.0269, -0.0443,  ..., -0.0963, -0.0976,  0.0587],\n",
       "        [-0.0642, -0.0157,  0.0269,  ...,  0.0661, -0.0381, -0.0875],\n",
       "        [ 0.0613,  0.0643,  0.0680,  ..., -0.0427, -0.0567, -0.0683]],\n",
       "       requires_grad=True)"
      ]
     },
     "execution_count": 24,
     "metadata": {},
     "output_type": "execute_result"
    }
   ],
   "source": [
    "# xavier initialization\n",
    "nn.init.xavier_uniform_(linear1.weight)\n",
    "nn.init.xavier_uniform_(linear2.weight)\n",
    "nn.init.xavier_uniform_(linear3.weight)\n",
    "nn.init.xavier_uniform_(linear4.weight)\n",
    "nn.init.xavier_uniform_(linear5.weight)"
   ]
  },
  {
   "cell_type": "markdown",
   "metadata": {},
   "source": [
    "### Deeper Linear Layers Model"
   ]
  },
  {
   "cell_type": "code",
   "execution_count": 25,
   "metadata": {},
   "outputs": [],
   "source": [
    "# model\n",
    "model = nn.Sequential(linear1, relu, linear2, relu, linear3).to(device)"
   ]
  },
  {
   "cell_type": "code",
   "execution_count": 26,
   "metadata": {},
   "outputs": [],
   "source": [
    "# define cost/loss & optimizer\n",
    "criterion = nn.CrossEntropyLoss().to(device)    # Softmax is internally computed.\n",
    "optimizer = optim.Adam(model.parameters(), lr=learning_rate)"
   ]
  },
  {
   "cell_type": "markdown",
   "metadata": {},
   "source": [
    "### Train"
   ]
  },
  {
   "cell_type": "code",
   "execution_count": 27,
   "metadata": {},
   "outputs": [
    {
     "name": "stdout",
     "output_type": "stream",
     "text": [
      "Epoch: 0001 cost = 0.281797230\n",
      "Epoch: 0002 cost = 0.088215232\n",
      "Epoch: 0003 cost = 0.058629107\n",
      "Epoch: 0004 cost = 0.042214498\n",
      "Epoch: 0005 cost = 0.032050919\n",
      "Epoch: 0006 cost = 0.025684005\n",
      "Epoch: 0007 cost = 0.021287441\n",
      "Epoch: 0008 cost = 0.018045099\n",
      "Epoch: 0009 cost = 0.016156605\n",
      "Epoch: 0010 cost = 0.015758354\n",
      "Epoch: 0011 cost = 0.014057511\n",
      "Epoch: 0012 cost = 0.013419772\n",
      "Epoch: 0013 cost = 0.010084672\n",
      "Epoch: 0014 cost = 0.010360982\n",
      "Epoch: 0015 cost = 0.012813476\n",
      "Learning finished\n"
     ]
    }
   ],
   "source": [
    "total_batch = len(data_loader)\n",
    "for epoch in range(training_epochs):\n",
    "    avg_cost = 0\n",
    "\n",
    "    for X, Y in data_loader:\n",
    "        # reshape input image into [batch_size by 784]\n",
    "        # label is not one-hot encoded\n",
    "        X = X.view(-1, 28 * 28).to(device)\n",
    "        Y = Y.to(device)\n",
    "\n",
    "        optimizer.zero_grad()\n",
    "        hypothesis = model(X)\n",
    "        cost = criterion(hypothesis, Y)\n",
    "        cost.backward()\n",
    "        optimizer.step()\n",
    "\n",
    "        avg_cost += cost / total_batch\n",
    "\n",
    "    print('Epoch:', '%04d' % (epoch + 1), 'cost =', '{:.9f}'.format(avg_cost))\n",
    "\n",
    "print('Learning finished')"
   ]
  },
  {
   "cell_type": "markdown",
   "metadata": {},
   "source": [
    "### Test"
   ]
  },
  {
   "cell_type": "code",
   "execution_count": 28,
   "metadata": {},
   "outputs": [
    {
     "name": "stdout",
     "output_type": "stream",
     "text": [
      "Accuracy: 0.8944000005722046\n",
      "Label:  9\n",
      "Prediction:  9\n"
     ]
    }
   ],
   "source": [
    "# Test the model using test sets\n",
    "# 기욹기 값 Update를 하지 않는다.\n",
    "with torch.no_grad():\n",
    "    X_test = mnist_test.data.view(-1, 28 * 28).float().to(device)\n",
    "    Y_test = mnist_test.targets.to(device)\n",
    "    \n",
    "    prediction = linear(X_test)\n",
    "    correct_prediction = torch.argmax(prediction, 1) == Y_test    # correct_prediction.shape = (10000,)\n",
    "    accuracy = correct_prediction.float().mean()\n",
    "    print('Accuracy:', accuracy.item())\n",
    "    \n",
    "    # Get one and predict\n",
    "    r = random.randint(0, len(mnist_test) - 1)\n",
    "    X_single_data = mnist_test.data[r:r + 1].view(-1, 28 * 28).float().to(device)\n",
    "    Y_single_data = mnist_test.targets[r:r + 1].to(device)\n",
    "\n",
    "    print('Label: ', Y_single_data.item())\n",
    "    single_prediction = linear(X_single_data)\n",
    "    print('Prediction: ', torch.argmax(single_prediction, 1).item())\n",
    "    "
   ]
  },
  {
   "cell_type": "markdown",
   "metadata": {},
   "source": [
    "## MNIST and DropOut"
   ]
  },
  {
   "cell_type": "code",
   "execution_count": 29,
   "metadata": {},
   "outputs": [],
   "source": [
    "drop_prob = 0.3\n",
    "\n",
    "# nn layers\n",
    "linear1 = nn.Linear(784, 512, bias=True)\n",
    "linear2 = nn.Linear(512, 512, bias=True)\n",
    "linear3 = nn.Linear(512, 512, bias=True)\n",
    "linear4 = nn.Linear(512, 512, bias=True)\n",
    "linear5 = nn.Linear(512, 10, bias=True)\n",
    "relu = nn.ReLU()\n",
    "dropout = nn.Dropout(p=drop_prob)"
   ]
  },
  {
   "cell_type": "markdown",
   "metadata": {},
   "source": [
    "### Xavier initialization"
   ]
  },
  {
   "cell_type": "code",
   "execution_count": 30,
   "metadata": {},
   "outputs": [
    {
     "data": {
      "text/plain": [
       "Parameter containing:\n",
       "tensor([[ 0.0688,  0.0985,  0.0080,  ...,  0.0980,  0.0887, -0.1003],\n",
       "        [-0.0148,  0.1046, -0.0906,  ..., -0.0466, -0.0312, -0.0942],\n",
       "        [ 0.0498,  0.0298, -0.0837,  ...,  0.0230, -0.0156,  0.0145],\n",
       "        ...,\n",
       "        [ 0.0443,  0.0730, -0.0081,  ...,  0.0012,  0.0086, -0.0369],\n",
       "        [ 0.0658,  0.0114, -0.0588,  ...,  0.0412, -0.0514, -0.0435],\n",
       "        [-0.0030, -0.0062,  0.0489,  ..., -0.0131, -0.0616, -0.0634]],\n",
       "       requires_grad=True)"
      ]
     },
     "execution_count": 30,
     "metadata": {},
     "output_type": "execute_result"
    }
   ],
   "source": [
    "# xavier initialization\n",
    "nn.init.xavier_uniform_(linear1.weight)\n",
    "nn.init.xavier_uniform_(linear2.weight)\n",
    "nn.init.xavier_uniform_(linear3.weight)\n",
    "nn.init.xavier_uniform_(linear4.weight)\n",
    "nn.init.xavier_uniform_(linear5.weight)"
   ]
  },
  {
   "cell_type": "markdown",
   "metadata": {},
   "source": [
    "### Deeper Linear Layers Model with Dropout"
   ]
  },
  {
   "cell_type": "code",
   "execution_count": 31,
   "metadata": {},
   "outputs": [],
   "source": [
    "# model\n",
    "model = nn.Sequential(linear1, relu, dropout,\n",
    "                      linear2, relu, dropout,\n",
    "                      linear3, relu, dropout,\n",
    "                      linear4, relu, dropout,\n",
    "                      linear5).to(device)"
   ]
  },
  {
   "cell_type": "code",
   "execution_count": 32,
   "metadata": {},
   "outputs": [],
   "source": [
    "# define cost/loss & optimizer\n",
    "criterion = nn.CrossEntropyLoss().to(device)    # Softmax is internally computed.\n",
    "optimizer = optim.Adam(model.parameters(), lr=learning_rate)"
   ]
  },
  {
   "cell_type": "markdown",
   "metadata": {},
   "source": [
    "### Train"
   ]
  },
  {
   "cell_type": "code",
   "execution_count": 33,
   "metadata": {},
   "outputs": [
    {
     "name": "stdout",
     "output_type": "stream",
     "text": [
      "Epoch: 0001 cost = 0.310823053\n",
      "Epoch: 0002 cost = 0.141329929\n",
      "Epoch: 0003 cost = 0.113971427\n",
      "Epoch: 0004 cost = 0.093698911\n",
      "Epoch: 0005 cost = 0.083575368\n",
      "Epoch: 0006 cost = 0.071843401\n",
      "Epoch: 0007 cost = 0.066984847\n",
      "Epoch: 0008 cost = 0.063782044\n",
      "Epoch: 0009 cost = 0.058074739\n",
      "Epoch: 0010 cost = 0.056956585\n",
      "Epoch: 0011 cost = 0.048598081\n",
      "Epoch: 0012 cost = 0.048462052\n",
      "Epoch: 0013 cost = 0.047489330\n",
      "Epoch: 0014 cost = 0.044893965\n",
      "Epoch: 0015 cost = 0.046098229\n",
      "Learning finished\n"
     ]
    }
   ],
   "source": [
    "total_batch = len(data_loader)\n",
    "for epoch in range(training_epochs):\n",
    "    avg_cost = 0\n",
    "\n",
    "    for X, Y in data_loader:\n",
    "        # reshape input image into [batch_size by 784]\n",
    "        # label is not one-hot encoded\n",
    "        X = X.view(-1, 28 * 28).to(device)\n",
    "        Y = Y.to(device)\n",
    "\n",
    "        optimizer.zero_grad()\n",
    "        hypothesis = model(X)\n",
    "        cost = criterion(hypothesis, Y)\n",
    "        cost.backward()\n",
    "        optimizer.step()\n",
    "\n",
    "        avg_cost += cost / total_batch\n",
    "\n",
    "    print('Epoch:', '%04d' % (epoch + 1), 'cost =', '{:.9f}'.format(avg_cost))\n",
    "\n",
    "print('Learning finished')"
   ]
  },
  {
   "cell_type": "markdown",
   "metadata": {},
   "source": [
    "### Test"
   ]
  },
  {
   "cell_type": "code",
   "execution_count": 34,
   "metadata": {},
   "outputs": [
    {
     "name": "stdout",
     "output_type": "stream",
     "text": [
      "Accuracy: 0.8944000005722046\n",
      "Label:  3\n",
      "Prediction:  3\n"
     ]
    }
   ],
   "source": [
    "# Test the model using test sets\n",
    "# 기욹기 값 Update를 하지 않는다.\n",
    "with torch.no_grad():\n",
    "    X_test = mnist_test.data.view(-1, 28 * 28).float().to(device)\n",
    "    Y_test = mnist_test.targets.to(device)\n",
    "    \n",
    "    prediction = linear(X_test)\n",
    "    correct_prediction = torch.argmax(prediction, 1) == Y_test    # correct_prediction.shape = (10000,)\n",
    "    accuracy = correct_prediction.float().mean()\n",
    "    print('Accuracy:', accuracy.item())\n",
    "    \n",
    "    # Get one and predict\n",
    "    r = random.randint(0, len(mnist_test) - 1)\n",
    "    X_single_data = mnist_test.data[r:r + 1].view(-1, 28 * 28).float().to(device)\n",
    "    Y_single_data = mnist_test.targets[r:r + 1].to(device)\n",
    "\n",
    "    print('Label: ', Y_single_data.item())\n",
    "    single_prediction = linear(X_single_data)\n",
    "    print('Prediction: ', torch.argmax(single_prediction, 1).item())"
   ]
  },
  {
   "cell_type": "markdown",
   "metadata": {},
   "source": [
    "## MNIST and BatchNorm"
   ]
  },
  {
   "cell_type": "code",
   "execution_count": 35,
   "metadata": {},
   "outputs": [],
   "source": [
    "# nn layers\n",
    "linear1 = nn.Linear(784, 32, bias=True)\n",
    "linear2 = nn.Linear(32, 32, bias=True)\n",
    "linear3 = nn.Linear(32, 10, bias=True)\n",
    "relu = nn.ReLU()\n",
    "bn1 = nn.BatchNorm1d(32)\n",
    "bn2 = nn.BatchNorm1d(32)\n",
    "\n",
    "nn_linear1 = nn.Linear(784, 32, bias=True)\n",
    "nn_linear2 = nn.Linear(32, 32, bias=True)\n",
    "nn_linear3 = nn.Linear(32, 10, bias=True)"
   ]
  },
  {
   "cell_type": "code",
   "execution_count": 36,
   "metadata": {},
   "outputs": [],
   "source": [
    "# parameters\n",
    "learning_rate = 0.01\n",
    "training_epochs = 10\n",
    "batch_size = 32"
   ]
  },
  {
   "cell_type": "markdown",
   "metadata": {},
   "source": [
    "### BatchNorm Model vs Non BatchNorm Model"
   ]
  },
  {
   "cell_type": "code",
   "execution_count": 37,
   "metadata": {},
   "outputs": [],
   "source": [
    "# model\n",
    "bn_model = nn.Sequential(linear1, bn1, relu,\n",
    "                         linear2, bn2, relu,\n",
    "                         linear3).to(device)\n",
    "nn_model = nn.Sequential(nn_linear1, relu,\n",
    "                         nn_linear2, relu,\n",
    "                         nn_linear3).to(device)"
   ]
  },
  {
   "cell_type": "code",
   "execution_count": 38,
   "metadata": {},
   "outputs": [],
   "source": [
    "# define cost/loss & optimizer\n",
    "criterion = nn.CrossEntropyLoss().to(device)    # Softmax is internally computed.\n",
    "bn_optimizer = optim.Adam(bn_model.parameters(), lr=learning_rate)\n",
    "nn_optimizer = optim.Adam(nn_model.parameters(), lr=learning_rate)"
   ]
  },
  {
   "cell_type": "markdown",
   "metadata": {},
   "source": [
    "### Train and Test Model"
   ]
  },
  {
   "cell_type": "code",
   "execution_count": 39,
   "metadata": {},
   "outputs": [],
   "source": [
    "# dataset loader\n",
    "train_loader = torch.utils.data.DataLoader(dataset=mnist_train,\n",
    "                                          batch_size=batch_size,\n",
    "                                          shuffle=True,\n",
    "                                          drop_last=True)\n",
    "\n",
    "test_loader = torch.utils.data.DataLoader(dataset=mnist_test,\n",
    "                                          batch_size=batch_size,\n",
    "                                          shuffle=False,\n",
    "                                          drop_last=True)"
   ]
  },
  {
   "cell_type": "code",
   "execution_count": 40,
   "metadata": {},
   "outputs": [
    {
     "name": "stdout",
     "output_type": "stream",
     "text": [
      "[Epoch 1-TRAIN] Batchnorm Loss(Acc): bn_loss:0.13529(bn_acc:0.96) vs No Batchnorm Loss(Acc): nn_loss:0.20053(nn_acc:0.94)\n",
      "[Epoch 1-VALID] Batchnorm Loss(Acc): bn_loss:0.15587(bn_acc:0.95) vs No Batchnorm Loss(Acc): nn_loss:0.21638(nn_acc:0.94)\n",
      "\n",
      "[Epoch 2-TRAIN] Batchnorm Loss(Acc): bn_loss:0.11198(bn_acc:0.97) vs No Batchnorm Loss(Acc): nn_loss:0.14704(nn_acc:0.96)\n",
      "[Epoch 2-VALID] Batchnorm Loss(Acc): bn_loss:0.13282(bn_acc:0.96) vs No Batchnorm Loss(Acc): nn_loss:0.17566(nn_acc:0.95)\n",
      "\n",
      "[Epoch 3-TRAIN] Batchnorm Loss(Acc): bn_loss:0.08525(bn_acc:0.97) vs No Batchnorm Loss(Acc): nn_loss:0.14337(nn_acc:0.96)\n",
      "[Epoch 3-VALID] Batchnorm Loss(Acc): bn_loss:0.11379(bn_acc:0.96) vs No Batchnorm Loss(Acc): nn_loss:0.17978(nn_acc:0.95)\n",
      "\n",
      "[Epoch 4-TRAIN] Batchnorm Loss(Acc): bn_loss:0.07527(bn_acc:0.98) vs No Batchnorm Loss(Acc): nn_loss:0.14455(nn_acc:0.96)\n",
      "[Epoch 4-VALID] Batchnorm Loss(Acc): bn_loss:0.10615(bn_acc:0.97) vs No Batchnorm Loss(Acc): nn_loss:0.18685(nn_acc:0.95)\n",
      "\n",
      "[Epoch 5-TRAIN] Batchnorm Loss(Acc): bn_loss:0.07482(bn_acc:0.98) vs No Batchnorm Loss(Acc): nn_loss:0.12457(nn_acc:0.96)\n",
      "[Epoch 5-VALID] Batchnorm Loss(Acc): bn_loss:0.10534(bn_acc:0.97) vs No Batchnorm Loss(Acc): nn_loss:0.17345(nn_acc:0.96)\n",
      "\n",
      "[Epoch 6-TRAIN] Batchnorm Loss(Acc): bn_loss:0.06281(bn_acc:0.98) vs No Batchnorm Loss(Acc): nn_loss:0.14386(nn_acc:0.96)\n",
      "[Epoch 6-VALID] Batchnorm Loss(Acc): bn_loss:0.10199(bn_acc:0.97) vs No Batchnorm Loss(Acc): nn_loss:0.22724(nn_acc:0.95)\n",
      "\n",
      "[Epoch 7-TRAIN] Batchnorm Loss(Acc): bn_loss:0.06013(bn_acc:0.98) vs No Batchnorm Loss(Acc): nn_loss:0.11533(nn_acc:0.97)\n",
      "[Epoch 7-VALID] Batchnorm Loss(Acc): bn_loss:0.10157(bn_acc:0.97) vs No Batchnorm Loss(Acc): nn_loss:0.17373(nn_acc:0.96)\n",
      "\n",
      "[Epoch 8-TRAIN] Batchnorm Loss(Acc): bn_loss:0.05905(bn_acc:0.98) vs No Batchnorm Loss(Acc): nn_loss:0.11872(nn_acc:0.97)\n",
      "[Epoch 8-VALID] Batchnorm Loss(Acc): bn_loss:0.10522(bn_acc:0.97) vs No Batchnorm Loss(Acc): nn_loss:0.19387(nn_acc:0.95)\n",
      "\n",
      "[Epoch 9-TRAIN] Batchnorm Loss(Acc): bn_loss:0.05106(bn_acc:0.98) vs No Batchnorm Loss(Acc): nn_loss:0.11705(nn_acc:0.97)\n",
      "[Epoch 9-VALID] Batchnorm Loss(Acc): bn_loss:0.10018(bn_acc:0.97) vs No Batchnorm Loss(Acc): nn_loss:0.20573(nn_acc:0.96)\n",
      "\n",
      "[Epoch 10-TRAIN] Batchnorm Loss(Acc): bn_loss:0.04826(bn_acc:0.99) vs No Batchnorm Loss(Acc): nn_loss:0.12038(nn_acc:0.97)\n",
      "[Epoch 10-VALID] Batchnorm Loss(Acc): bn_loss:0.09160(bn_acc:0.97) vs No Batchnorm Loss(Acc): nn_loss:0.20212(nn_acc:0.95)\n",
      "\n",
      "Learning finished\n"
     ]
    }
   ],
   "source": [
    "# Save Losses and Accuracies every epoch\n",
    "# We are going to plot them later\n",
    "train_losses = []\n",
    "train_accs = []\n",
    "\n",
    "valid_losses = []\n",
    "valid_accs = []\n",
    "\n",
    "train_total_batch = len(train_loader)\n",
    "test_total_batch = len(test_loader)\n",
    "\n",
    "for epoch in range(training_epochs):\n",
    "    bn_model.train()  # set the model to train mode\n",
    "\n",
    "    for X, Y in train_loader:\n",
    "        # reshape input image into [batch_size by 784]\n",
    "        # label is not one-hot encoded\n",
    "        X = X.view(-1, 28 * 28).to(device)\n",
    "        Y = Y.to(device)\n",
    "\n",
    "        # batch_norm_model training\n",
    "        bn_prediction = bn_model(X)\n",
    "        bn_loss = criterion(bn_prediction, Y)\n",
    "        \n",
    "        bn_optimizer.zero_grad()\n",
    "        bn_loss.backward()\n",
    "        bn_optimizer.step()\n",
    "\n",
    "        # Non batch_norm_model training\n",
    "        nn_prediction = nn_model(X)\n",
    "        nn_loss = criterion(nn_prediction, Y)\n",
    "        \n",
    "        nn_optimizer.zero_grad()\n",
    "        nn_loss.backward()\n",
    "        nn_optimizer.step()\n",
    "\n",
    "    # Test\n",
    "    with torch.no_grad():\n",
    "        bn_model.eval()     # set the model to evaluation mode\n",
    "\n",
    "        # Test the model using train sets\n",
    "        bn_loss, nn_loss, bn_acc, nn_acc = 0, 0, 0, 0\n",
    "        for i, (X, Y) in enumerate(train_loader):\n",
    "            X = X.view(-1, 28 * 28).to(device)\n",
    "            Y = Y.to(device)\n",
    "\n",
    "            bn_prediction = bn_model(X)\n",
    "            bn_correct_prediction = torch.argmax(bn_prediction, 1) == Y\n",
    "            bn_loss += criterion(bn_prediction, Y)\n",
    "            bn_acc += bn_correct_prediction.float().mean()\n",
    "\n",
    "            nn_prediction = nn_model(X)\n",
    "            nn_correct_prediction = torch.argmax(nn_prediction, 1) == Y\n",
    "            nn_loss += criterion(nn_prediction, Y)\n",
    "            nn_acc += nn_correct_prediction.float().mean()\n",
    "\n",
    "        bn_loss, nn_loss, bn_acc, nn_acc = bn_loss / train_total_batch, nn_loss / train_total_batch, bn_acc / train_total_batch, nn_acc / train_total_batch\n",
    "\n",
    "        # Save train losses/acc\n",
    "        train_losses.append([bn_loss, nn_loss])\n",
    "        train_accs.append([bn_acc, nn_acc])\n",
    "        print(\n",
    "            '[Epoch %d-TRAIN] Batchnorm Loss(Acc): bn_loss:%.5f(bn_acc:%.2f) vs No Batchnorm Loss(Acc): nn_loss:%.5f(nn_acc:%.2f)' % (\n",
    "            (epoch + 1), bn_loss.item(), bn_acc.item(), nn_loss.item(), nn_acc.item()))\n",
    "        \n",
    "        # Test the model using test sets\n",
    "        bn_loss, nn_loss, bn_acc, nn_acc = 0, 0, 0, 0\n",
    "        for i, (X, Y) in enumerate(test_loader):\n",
    "            X = X.view(-1, 28 * 28).to(device)\n",
    "            Y = Y.to(device)\n",
    "\n",
    "            bn_prediction = bn_model(X)\n",
    "            bn_correct_prediction = torch.argmax(bn_prediction, 1) == Y\n",
    "            bn_loss += criterion(bn_prediction, Y)\n",
    "            bn_acc += bn_correct_prediction.float().mean()\n",
    "\n",
    "            nn_prediction = nn_model(X)\n",
    "            nn_correct_prediction = torch.argmax(nn_prediction, 1) == Y\n",
    "            nn_loss += criterion(nn_prediction, Y)\n",
    "            nn_acc += nn_correct_prediction.float().mean()\n",
    "\n",
    "        bn_loss, nn_loss, bn_acc, nn_acc = bn_loss / test_total_batch, nn_loss / test_total_batch, bn_acc / test_total_batch, nn_acc / test_total_batch\n",
    "\n",
    "        # Save valid losses/acc\n",
    "        valid_losses.append([bn_loss, nn_loss])\n",
    "        valid_accs.append([bn_acc, nn_acc])\n",
    "        print(\n",
    "            '[Epoch %d-VALID] Batchnorm Loss(Acc): bn_loss:%.5f(bn_acc:%.2f) vs No Batchnorm Loss(Acc): nn_loss:%.5f(nn_acc:%.2f)' % (\n",
    "                (epoch + 1), bn_loss.item(), bn_acc.item(), nn_loss.item(), nn_acc.item()))\n",
    "        print()\n",
    "\n",
    "print('Learning finished')"
   ]
  },
  {
   "cell_type": "code",
   "execution_count": 41,
   "metadata": {},
   "outputs": [],
   "source": [
    "def plot_compare(loss_list: list, ylim=None, title=None) -> None:\n",
    "    bn = [i[0] for i in loss_list]\n",
    "    nn = [i[1] for i in loss_list]\n",
    "\n",
    "    plt.figure(figsize=(15, 10))\n",
    "    plt.plot(bn, label='With BN')\n",
    "    plt.plot(nn, label='Without BN')\n",
    "    if ylim:\n",
    "        plt.ylim(ylim)\n",
    "\n",
    "    if title:\n",
    "        plt.title(title)\n",
    "    plt.legend()\n",
    "    plt.grid('on')\n",
    "    plt.show()"
   ]
  },
  {
   "cell_type": "code",
   "execution_count": 42,
   "metadata": {},
   "outputs": [
    {
     "data": {
      "image/png": "[encoded data removed]",
      "text/plain": [
       "<Figure size 1080x720 with 1 Axes>"
      ]
     },
     "metadata": {
      "needs_background": "light"
     },
     "output_type": "display_data"
    },
    {
     "data": {
      "image/png": "[encoded data removed]",
      "text/plain": [
       "<Figure size 1080x720 with 1 Axes>"
      ]
     },
     "metadata": {
      "needs_background": "light"
     },
     "output_type": "display_data"
    },
    {
     "data": {
      "image/png": "[encoded data removed]",
      "text/plain": [
       "<Figure size 1080x720 with 1 Axes>"
      ]
     },
     "metadata": {
      "needs_background": "light"
     },
     "output_type": "display_data"
    },
    {
     "data": {
      "image/png": "[encoded data removed]",
      "text/plain": [
       "<Figure size 1080x720 with 1 Axes>"
      ]
     },
     "metadata": {
      "needs_background": "light"
     },
     "output_type": "display_data"
    }
   ],
   "source": [
    "plot_compare(train_losses, title='Training Loss at Epoch')\n",
    "plot_compare(train_accs, [0, 1.0], title='Training Acc at Epoch')\n",
    "plot_compare(valid_losses, title='Validation Loss at Epoch')\n",
    "plot_compare(valid_accs, [0, 1.0], title='Validation Acc at Epoch')"
   ]
  }
 ],
 "metadata": {
  "kernelspec": {
   "display_name": "Python 3",
   "language": "python",
   "name": "python3"
  },
  "language_info": {
   "codemirror_mode": {
    "name": "ipython",
    "version": 3
   },
   "file_extension": ".py",
   "mimetype": "text/x-python",
   "name": "python",
   "nbconvert_exporter": "python",
   "pygments_lexer": "ipython3",
   "version": "3.7.9"
  }
 },
 "nbformat": 4,
 "nbformat_minor": 4
}
