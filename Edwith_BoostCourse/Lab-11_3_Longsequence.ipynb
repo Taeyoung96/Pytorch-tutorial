{
 "cells": [
  {
   "cell_type": "markdown",
   "metadata": {},
   "source": [
    "## Import Required Libraries"
   ]
  },
  {
   "cell_type": "code",
   "execution_count": 1,
   "metadata": {},
   "outputs": [],
   "source": [
    "import torch\n",
    "import torch.optim as optim\n",
    "import numpy as np"
   ]
  },
  {
   "cell_type": "markdown",
   "metadata": {},
   "source": [
    "## Random Seed 고정"
   ]
  },
  {
   "cell_type": "code",
   "execution_count": 2,
   "metadata": {},
   "outputs": [
    {
     "data": {
      "text/plain": [
       "<torch._C.Generator at 0x16e7ab49a70>"
      ]
     },
     "execution_count": 2,
     "metadata": {},
     "output_type": "execute_result"
    }
   ],
   "source": [
    "# Random seed to make results deterministic and reproducible\n",
    "torch.manual_seed(0)"
   ]
  },
  {
   "cell_type": "markdown",
   "metadata": {},
   "source": [
    "## 하나의 긴 문장 만들기"
   ]
  },
  {
   "cell_type": "code",
   "execution_count": 3,
   "metadata": {},
   "outputs": [],
   "source": [
    "sentence = (\"if you want to build a ship, don't drum up people together to \"\n",
    "            \"collect wood and don't assign them tasks and work, but rather \"\n",
    "            \"teach them to long for the endless immensity of the sea.\")"
   ]
  },
  {
   "cell_type": "markdown",
   "metadata": {},
   "source": [
    "## 문장을 하나의 Chunk 단위로 쪼개기"
   ]
  },
  {
   "cell_type": "code",
   "execution_count": 4,
   "metadata": {},
   "outputs": [],
   "source": [
    "# make dictionary\n",
    "char_set = list(set(sentence))\n",
    "char_dic = {c: i for i, c in enumerate(char_set)}"
   ]
  },
  {
   "cell_type": "code",
   "execution_count": 5,
   "metadata": {},
   "outputs": [],
   "source": [
    "# hyper parameters\n",
    "dic_size = len(char_dic)\n",
    "hidden_size = len(char_dic)  # Ouput Size\n",
    "sequence_length = 10  # Any arbitrary number - 한 덩어리에 담을 char수\n",
    "learning_rate = 0.1"
   ]
  },
  {
   "cell_type": "markdown",
   "metadata": {},
   "source": [
    "## Data Setting"
   ]
  },
  {
   "cell_type": "code",
   "execution_count": 6,
   "metadata": {},
   "outputs": [
    {
     "name": "stdout",
     "output_type": "stream",
     "text": [
      "0 if you wan -> f you want\n",
      "1 f you want ->  you want \n",
      "2  you want  -> you want t\n",
      "3 you want t -> ou want to\n",
      "4 ou want to -> u want to \n",
      "5 u want to  ->  want to b\n",
      "6  want to b -> want to bu\n",
      "7 want to bu -> ant to bui\n",
      "8 ant to bui -> nt to buil\n",
      "9 nt to buil -> t to build\n",
      "10 t to build ->  to build \n",
      "11  to build  -> to build a\n",
      "12 to build a -> o build a \n",
      "13 o build a  ->  build a s\n",
      "14  build a s -> build a sh\n",
      "15 build a sh -> uild a shi\n",
      "16 uild a shi -> ild a ship\n",
      "17 ild a ship -> ld a ship,\n",
      "18 ld a ship, -> d a ship, \n",
      "19 d a ship,  ->  a ship, d\n",
      "20  a ship, d -> a ship, do\n",
      "21 a ship, do ->  ship, don\n",
      "22  ship, don -> ship, don'\n",
      "23 ship, don' -> hip, don't\n",
      "24 hip, don't -> ip, don't \n",
      "25 ip, don't  -> p, don't d\n",
      "26 p, don't d -> , don't dr\n",
      "27 , don't dr ->  don't dru\n",
      "28  don't dru -> don't drum\n",
      "29 don't drum -> on't drum \n",
      "30 on't drum  -> n't drum u\n",
      "31 n't drum u -> 't drum up\n",
      "32 't drum up -> t drum up \n",
      "33 t drum up  ->  drum up p\n",
      "34  drum up p -> drum up pe\n",
      "35 drum up pe -> rum up peo\n",
      "36 rum up peo -> um up peop\n",
      "37 um up peop -> m up peopl\n",
      "38 m up peopl ->  up people\n",
      "39  up people -> up people \n",
      "40 up people  -> p people t\n",
      "41 p people t ->  people to\n",
      "42  people to -> people tog\n",
      "43 people tog -> eople toge\n",
      "44 eople toge -> ople toget\n",
      "45 ople toget -> ple togeth\n",
      "46 ple togeth -> le togethe\n",
      "47 le togethe -> e together\n",
      "48 e together ->  together \n",
      "49  together  -> together t\n",
      "50 together t -> ogether to\n",
      "51 ogether to -> gether to \n",
      "52 gether to  -> ether to c\n",
      "53 ether to c -> ther to co\n",
      "54 ther to co -> her to col\n",
      "55 her to col -> er to coll\n",
      "56 er to coll -> r to colle\n",
      "57 r to colle ->  to collec\n",
      "58  to collec -> to collect\n",
      "59 to collect -> o collect \n",
      "60 o collect  ->  collect w\n",
      "61  collect w -> collect wo\n",
      "62 collect wo -> ollect woo\n",
      "63 ollect woo -> llect wood\n",
      "64 llect wood -> lect wood \n",
      "65 lect wood  -> ect wood a\n",
      "66 ect wood a -> ct wood an\n",
      "67 ct wood an -> t wood and\n",
      "68 t wood and ->  wood and \n",
      "69  wood and  -> wood and d\n",
      "70 wood and d -> ood and do\n",
      "71 ood and do -> od and don\n",
      "72 od and don -> d and don'\n",
      "73 d and don' ->  and don't\n",
      "74  and don't -> and don't \n",
      "75 and don't  -> nd don't a\n",
      "76 nd don't a -> d don't as\n",
      "77 d don't as ->  don't ass\n",
      "78  don't ass -> don't assi\n",
      "79 don't assi -> on't assig\n",
      "80 on't assig -> n't assign\n",
      "81 n't assign -> 't assign \n",
      "82 't assign  -> t assign t\n",
      "83 t assign t ->  assign th\n",
      "84  assign th -> assign the\n",
      "85 assign the -> ssign them\n",
      "86 ssign them -> sign them \n",
      "87 sign them  -> ign them t\n",
      "88 ign them t -> gn them ta\n",
      "89 gn them ta -> n them tas\n",
      "90 n them tas ->  them task\n",
      "91  them task -> them tasks\n",
      "92 them tasks -> hem tasks \n",
      "93 hem tasks  -> em tasks a\n",
      "94 em tasks a -> m tasks an\n",
      "95 m tasks an ->  tasks and\n",
      "96  tasks and -> tasks and \n",
      "97 tasks and  -> asks and w\n",
      "98 asks and w -> sks and wo\n",
      "99 sks and wo -> ks and wor\n",
      "100 ks and wor -> s and work\n",
      "101 s and work ->  and work,\n",
      "102  and work, -> and work, \n",
      "103 and work,  -> nd work, b\n",
      "104 nd work, b -> d work, bu\n",
      "105 d work, bu ->  work, but\n",
      "106  work, but -> work, but \n",
      "107 work, but  -> ork, but r\n",
      "108 ork, but r -> rk, but ra\n",
      "109 rk, but ra -> k, but rat\n",
      "110 k, but rat -> , but rath\n",
      "111 , but rath ->  but rathe\n",
      "112  but rathe -> but rather\n",
      "113 but rather -> ut rather \n",
      "114 ut rather  -> t rather t\n",
      "115 t rather t ->  rather te\n",
      "116  rather te -> rather tea\n",
      "117 rather tea -> ather teac\n",
      "118 ather teac -> ther teach\n",
      "119 ther teach -> her teach \n",
      "120 her teach  -> er teach t\n",
      "121 er teach t -> r teach th\n",
      "122 r teach th ->  teach the\n",
      "123  teach the -> teach them\n",
      "124 teach them -> each them \n",
      "125 each them  -> ach them t\n",
      "126 ach them t -> ch them to\n",
      "127 ch them to -> h them to \n",
      "128 h them to  ->  them to l\n",
      "129  them to l -> them to lo\n",
      "130 them to lo -> hem to lon\n",
      "131 hem to lon -> em to long\n",
      "132 em to long -> m to long \n",
      "133 m to long  ->  to long f\n",
      "134  to long f -> to long fo\n",
      "135 to long fo -> o long for\n",
      "136 o long for ->  long for \n",
      "137  long for  -> long for t\n",
      "138 long for t -> ong for th\n",
      "139 ong for th -> ng for the\n",
      "140 ng for the -> g for the \n",
      "141 g for the  ->  for the e\n",
      "142  for the e -> for the en\n",
      "143 for the en -> or the end\n",
      "144 or the end -> r the endl\n",
      "145 r the endl ->  the endle\n",
      "146  the endle -> the endles\n",
      "147 the endles -> he endless\n",
      "148 he endless -> e endless \n",
      "149 e endless  ->  endless i\n",
      "150  endless i -> endless im\n",
      "151 endless im -> ndless imm\n",
      "152 ndless imm -> dless imme\n",
      "153 dless imme -> less immen\n",
      "154 less immen -> ess immens\n",
      "155 ess immens -> ss immensi\n",
      "156 ss immensi -> s immensit\n",
      "157 s immensit ->  immensity\n",
      "158  immensity -> immensity \n",
      "159 immensity  -> mmensity o\n",
      "160 mmensity o -> mensity of\n",
      "161 mensity of -> ensity of \n",
      "162 ensity of  -> nsity of t\n",
      "163 nsity of t -> sity of th\n",
      "164 sity of th -> ity of the\n",
      "165 ity of the -> ty of the \n",
      "166 ty of the  -> y of the s\n",
      "167 y of the s ->  of the se\n",
      "168  of the se -> of the sea\n",
      "169 of the sea -> f the sea.\n"
     ]
    }
   ],
   "source": [
    "# data setting\n",
    "x_data = []\n",
    "y_data = []\n",
    "\n",
    "for i in range(0, len(sentence) - sequence_length):\n",
    "    x_str = sentence[i:i + sequence_length]   # Input string\n",
    "    y_str = sentence[i + 1: i + sequence_length + 1] # Output string\n",
    "    print(i, x_str, '->', y_str)\n",
    "\n",
    "    x_data.append([char_dic[c] for c in x_str])  # x str to index\n",
    "    y_data.append([char_dic[c] for c in y_str])  # y str to index\n",
    "\n",
    "x_one_hot = [np.eye(dic_size)[x] for x in x_data]\n",
    "# 단위 행렬을 이용하여 One hot Encoding 진행하기"
   ]
  },
  {
   "cell_type": "markdown",
   "metadata": {},
   "source": [
    "## Data를 Tensor로 바꾸기"
   ]
  },
  {
   "cell_type": "code",
   "execution_count": 7,
   "metadata": {},
   "outputs": [],
   "source": [
    "# transform as torch tensor variable\n",
    "X = torch.FloatTensor(x_one_hot)\n",
    "Y = torch.LongTensor(y_data)"
   ]
  },
  {
   "cell_type": "markdown",
   "metadata": {},
   "source": [
    "## RNN 선언"
   ]
  },
  {
   "cell_type": "code",
   "execution_count": 8,
   "metadata": {},
   "outputs": [],
   "source": [
    "# declare RNN + FC\n",
    "class Net(torch.nn.Module):\n",
    "    def __init__(self, input_dim, hidden_dim, layers):\n",
    "        super(Net, self).__init__()\n",
    "        self.rnn = torch.nn.RNN(input_dim, hidden_dim, num_layers=layers, batch_first=True)\n",
    "        self.fc = torch.nn.Linear(hidden_dim, hidden_dim, bias=True)\n",
    "\n",
    "    def forward(self, x):\n",
    "        x, _status = self.rnn(x)\n",
    "        x = self.fc(x)\n",
    "        return x"
   ]
  },
  {
   "cell_type": "code",
   "execution_count": 9,
   "metadata": {},
   "outputs": [],
   "source": [
    "# 모델 선언하기\n",
    "#(Input Size, Output Size, layer 갯수)\n",
    "net = Net(dic_size, hidden_size, 2) "
   ]
  },
  {
   "cell_type": "code",
   "execution_count": 10,
   "metadata": {},
   "outputs": [],
   "source": [
    "# Loss function\n",
    "criterion = torch.nn.CrossEntropyLoss()\n",
    "\n",
    "# Optimizer\n",
    "optimizer = optim.Adam(net.parameters(), learning_rate)"
   ]
  },
  {
   "cell_type": "markdown",
   "metadata": {},
   "source": [
    "## Training"
   ]
  },
  {
   "cell_type": "code",
   "execution_count": 11,
   "metadata": {},
   "outputs": [
    {
     "name": "stdout",
     "output_type": "stream",
     "text": [
      "kokokykokkfyfykfrkfkkok'offfkfokfoyfkkofkkffyoffkkfykrookoffykkokfkofkkyofkkkfkfokfoykkoffrrfokokkokffffkffoyoffkyyfkkfookoffyoookookokkykfykfrookkfrkoykffyooffooyofffokokkkrko'ko\n",
      "o    e e e ehet e ee  t ee ee ee eee e eh e e eeeeeee eee thee eeee eee e e     ee e e   ee eee thet t  e thee e  eeee eee teee eehee theeeee e eeeeee e  e   t eee   eee ee ee t e\n",
      "oo             o       o  o  o     o          o   o             t     o                               to        t  o   o o       t        o t           t      o           t       \n",
      "s'.byus'.....'..'..'.b.b.y..........'...b.b.'y.b.b.'..u.''.b'.....'.......'b.......'..'.....''.'.b'..'b..b.....'..'y.'....''.'b...u..''.'..'..'.......''..b...'..e.''..'....u..''..\n",
      " ttmem ttiiiiiiiiiiiiiiiiiiiiiiieieiiiiiiiiiiiiiiiiiiiiiiiiiiiiiiiiiiiiiiiiiiiiiiiiiiiiiiiiiiiieeiiiiiiiiiiiiiiiiiiiiiiiieiiiiiiiiiiiiiiiiiiiiiiiiiiiiiiiiiiiiiiiiitiieeeiiiieiiiii\n",
      " l m  tl mll    l  ll m m mlm     m l    ll   ll    l et ll  llltl ll    t  lll   l m l    ll m     l t lll     m m l l    l   l t  lll lllltll l l   l m    tl   ltl   m l   ml m \n",
      "   h    rc  e     h   rr e      c cc   r    he   rcr  e        o  h          o       r    r   rrh  r o      rrh  e  h    h   r     h       o   o e   r r  e o    h o ehh    ec  r  \n",
      "   c    c  dy  e yc   yc y   yyoc    c dy  ea ohc ec yc      hh   c  yyy    aoc yahyycac yo   ycc yc o  a  ycyc yd ea  hyc   c     ct     e  h eay  yc chyoeo   yc   osc   ydc  yc \n",
      "   c   ac   d    y  e o e    ode a     ce   a       e   a r       ce t d           ctc   o    t e t e   t ayeo ctt      d    cet  der               dt   oc     d     cee atc r d t\n",
      " t t tto e eo tht e t t toh   o e e    o  t t t roheeo  t t   otto            e          o  t t eho e toteto  o o t  te    t   o to e    thtt     t  n   o rt   t  te   e     r o  \n",
      " t tot o t to     t t tot t    ot to t tt t to t too      t   o   s  t     tt t     t    tte    ta  t  tt  oo t tot   t  s t tto to t t   o   t o t       o et  tot  ,o t  t ot ttt\n",
      " t tot t t to   t t t t ttt t  ot to   t tt t  t too t    t   o   o  t    t t t t t t    ttt  t t   t ttt to  t t t t t  t t   t t e  t       t t t t     o  t  ttt   o t  to      \n",
      " t    at t to t t t t t tto to  t t  t t tttt tt to  t  t t     e    to   a t t t t t t ttttt t t t t ttt to  t t t t t  s t     tot  t tt  t t   tott  t    tt t ttt o t et d tttt\n",
      "      ao s to lit   t t e   to dt l  t t tt   to t      a t  l     t to   at  t   ao  t  ott  s t t t t t to lt tot t to r to so tod tto l  loto  tot t t d t t ttttiso d  t d t ts\n",
      "     dao t to lia o t t el  ao  todo t s it rll  t  lo ln to lo el s to   a s to  aosiaiio lo m to su t s to lt sstot to s to to ao   so l  loeor to ssis d t t ssasito d  to  tsas\n",
      "  e  dio toto eu ld t t e e io  thl  t s et n  t t  et erathedh e  s wo l ths to  the siiosto t spiss ths to et astoe to s th so toer iaeeo e aon toems doe s t o suiio to toemtot \n",
      "  e   to d eo eut o t t t d aor tha dt aodtem ut a   them thedo ee t tp   t s ton toe sithean totp ss thd do  t aht t thea th ms thea t eeo e tod themd s d s ta csstto co thems ts\n",
      "  e  ato t eo eod t t d t t toe tod  t tndiemh t a   toem theto ee t dp   tod toe tod s todan m thect tod to  t aht t them th pe them theeo e t d themd d d sst   suitoia  themd ta\n",
      "  e   to t wo ltt t ant t t tor toa  t toetemh e t   toem th to eo t to   tmd toe toa siioetoem thact tod ao  t aht t toem th  d toen theao l t t thend d e s t p teato t  toemd ta\n",
      "  i   to t to l t t t t d d toe t a ep thdtemo e t   rogr toetolll t wo   t d toe t a iiimetoem thist t t to  t tut tsthen to ss toem theao l t d toemt d e s iiictuito t  toemaia \n",
      "l i   to t to l t , t t dme ao  t a em thltlm le t   rogr to bolel s woo  t d do  toasiiim toem thasi thd to l, aut t ther to ss them thelo l tor themd d e siiim suito d  toemaii \n",
      "lot  uao t wo lut , tst ipe to  t d  m to ,lrllo t   ro r to tollesd wool tad do  t ssiiim toer thssi thd do l, tut tuthem torsn them th lo l tod toemd e e s imo shito d  them ii \n",
      "lot   ao t wo lut , t t ip, t n t l um to ,lrolo ton to r th loleess wool a d do  t ssiiio ther thssi thd don , dutod them thrss them th lo l thd thd d d d s imo shiao d  therd i \n",
      "uot   ao tewo lut d asthip, ton t d  m aol,loleo ton ah r th loleesa wool asd do  t ssiieoeaher thssu thd con , tatotathem th ao them th lo l thd therd d e s imo shiao do themd i \n",
      "uot   ao tetoncut d asthip, ton't c um aolpeollo toe them th loleeca wool and don t ssii m ther tassu ahd wonl, tat tather th sn them th lo l thd therd d e s imo shiao d  themd t \n",
      "fpt   ao t to cut d tst ip, ton't d ut tolpeoole toe them th loleeca tool and dor't dssieo them tasss a d donlt tut t them th cn them to lo l tor therd d e snimo shiay d  themd t \n",
      "ppt n ao teto cut d sst ip, ton't drut ao teoole tog ther ty bollecd bool and dor't dssiwm them tascu a d worlt but dathem th cn them ta lo lltor there d e s im  nhitm a  themd t \n",
      "ppt n ao t to but e ast ip, bor't drut ao teoole tog ther th bollecd dool and dor't ansiin ther taskt a d aorl, but dathem th co them ta lo g tor therend e s im  ns im d  themd i \n",
      "poion ao t to but d ant ip, bor't drut ao peohle tog them th bollecd tool and sor't ansiim ther taskt and aorl, but dathem th co them to bo g tor therend e snim  ns im a  themd i \n",
      "poto  wo t to but d anthip, dor't drut ao peonle tog them to bollera wool and wo 't ansi m ther tasks and wo l, but dathem tosco them to bo g tor thereng ecs imm ssiwy a  themd t \n",
      "poton wont to bui d anthip, don't arkt ap pemhle tog them to bollecd wool and so 't dnsi m ther tasks amd wo l, but dathem toscd them toglo g tor themd d e s imm nsity a  themd i \n",
      "poton wo t to cui d anthip, don't drut ap peo le tog them to collect wool and so 't ansiwo ther tasks ans wonl, but dathem tosco them th bo g tor therend ecs im  ns ty an themd t \n",
      "poton aont to luild anthip, don't srut ap people tog them to collect wool and so 't ansiwo ther thsks and wonl, but rathem to co them th lo l tor therend ens im  nsity an themd t \n",
      "loton aont to luild anship, don't arum apepeople tog ther to collect wool and do 't assi n ther tasks and wonk, but rathem toaco them th lonl for therend ens immensit  an themd s \n",
      "leton aa t to luild anship, don't arum apepeople tog ther to collect wool and won't assigo ther tasks and wonk, but cather toaco them ta lonl for toerendlecs immensit  an thecd s \n",
      "leton aant to build anship, don't arum ap people tog ther to bollect wool and don't assigo them tasks and wonk, but cather toaco them ta lonl for themendlecs immensith an the d t \n",
      "l ton aant to build anship, don't arum up peopee tog ther to bollect wool and don't ussigo them tasks and donk, but rather toach them ta lond for themend ecs imm nsit  an the d t \n",
      "l ton aant to build anship, don't arum up peopee together th bollect wool and don't assign them tasks and wonk, but rather toach them ta lond for the end ess imm nsity an the d t \n",
      "l ton want to build anship, don't arum up peopee together to bollect wool and won't assign them tasks and wonk, but rather toach them ta long for themendless immensity af the d t \n",
      "l ton aant to build anship, don't arum up peopee together to bollect wool and don't assign them tasks and wonk, but rather toach them to long for themendless immensity af the d ts\n",
      "l ton aant to build anship, don't arum up people together to bollect wool and don't assign ther tosks and wonk, but rather toach them to long for themendless immensity af the s t \n",
      "l ton want to build asship, don't drum up people together to collect wool and don't dssign ther tasks and wonk, but rather toach them to long for themendless immensity of the s t \n",
      "lhton want to cuild anship, don't drum up people together to collect wool and don't dssign ther tasks and wonk, but rathe  toach them to long for the endless immensity of the s t \n",
      "phyon want to cuild anship, don't drum up people together to collect wood and don't dssign ther tosks and wonk, but rather toach them th long for the endless immensity of the s t \n",
      "p yon want to cuild anship, don't drum up people together to collect wood and don't dssign them tasks and wonk, but rather toach them ta long for the snsos s immensity of the s t \n",
      "p yon want to cuild a ship, don't drum up people togethem to collect wood and won't dssign them tasks and wonk, but rather toach them ta long for toe ensless immensity of the s t \n",
      "fgyou want to build asship, don't drum up people togethem to collect wood and don't dssign them tasks and work, but rather toach them ta long for the endless immensity of the s ts\n",
      "f you want to build a ship, don't drum up people together to bollect wood and don't dssign them tasks and work, but rather toach them ta long for the endless immensity of the s tw\n",
      "p you want to build a ship, don't arum up people together to bollect wood and don't assign them tasks and work, but rather toach them ta long for the endless immensity of the e tw\n",
      "p you wont to build a ship, don't drum up people together to collect wood and don't dssign them tosks and work, but rather toach them to long for the endless immensity of the s t \n",
      "p y u want to build a ship, don't drum up people together te collect wood and don't dssign them tasks and work, but rather toach them ta long for the sndless immensity of the s a \n",
      "p you want to build a ship, don't arum up people together te collect wood and don't assign them tasks and work, but rather toach them ta long for the sndless immensity of the s a \n",
      "p you want to cuild a ship, don't arum up people togethem te collect wood and don't assign them tosks and work, but rather teach them to long for the endless immensity of the s a \n",
      "l you want to build a ship, don't arum up people together to collect wood and don't assign them tasks and work, but rather toach them ta long for the endless immensity of the s a \n",
      "l you want to build anship, don't arum up people together to collect wood and don't assign them tasks and work, but rather toach them ta long for the endless immensity of the s t \n",
      "l you want to build anship, don't drum up people together to collect wood and don't dssign them tasks and work, but rather toach them to long for the endless immensity of the s t \n"
     ]
    },
    {
     "name": "stdout",
     "output_type": "stream",
     "text": [
      "l you want to build a ship, don't drum up people together to collect wood and don't assign them tasks and work, but rather teach them to long for the endless immensity of the s a \n",
      "l you want to build a ship, don't arum up people together to collect wood and don't assign them tasks and work, but rather toach them to long for the endless immensity of the s a.\n",
      "leyou want to build a ship, don't arum up people together to collect wood and don't assign them tasks and work, but rather toach them to long for the endless immensity of the s a.\n",
      "l you want to build a ship, don't arum up people together te collect wood and don't assign them tasks and work, but rather teach them to long for the endless immensity of the s a.\n",
      "l you want to build a ship, don't arum up people together te collect wood and don't assign them tasks and work, but rather teach them to long for the endless immensity of the s a.\n",
      "l you want to build a ship, don't drum up people together to collect wood and don't assign them tasks and work, but rather toach them to long for the sndless immensity of the s a.\n",
      "l you want to build a ship, don't arum up people together to collect wood and don't assign them tasks and work, but rather teach them to long for the endless immensity of the s as\n",
      "l you want to build a ship, don't drum up people together te collect wood and don't dssign them tasks and work, but rather teach them to long for the endless immensity of the s a.\n",
      "m you want to build a ship, don't drum up people together to collect wood and don't dssign them tasks and work, but rather toach them to long for the endless immensity of the s a.\n",
      "m you want to build a ship, don't drum up people together to collect wood and don't dssign them tasks and work, but rather toach them ta long for the endless immensity of the s a.\n",
      "m you want to build a ship, don't drum up people together te collect wood and don't assign them tasks and work, but rather teach them to long for the endless immensity of the s a.\n",
      "m you want to build a ship, don't drum up people together to collect wood and don't assign them tasks and work, but rather teach them to long for the endless immensity of the s a.\n",
      "m you want to build a ship, don't drum up people together to collect wood and don't assign them tasks and work, but rather teach them to long for the endless immensity of the s a.\n",
      "l you want to build a ship, don't drum up people together te collect wood and don't assign them tasks and work, but rather teach them to long for the endless immensity of the s a.\n",
      "l you want to build a ship, don't drum up people together te collect wood and don't assign them tasks and work, but rather teach them to long for the endless immensity of the s a.\n",
      "l you want to build a ship, don't drum up people together to collect wood and don't assign them tasks and work, but rather teach them to long for the endless immensity of the s a.\n",
      "l you want to build a ship, don't drum up people together to collect wood and don't assign them tasks and work, but rather toach them to long for the endless immensity of the s a.\n",
      "l you want to build a ship, don't drum up people together to collect wood and don't assign them tasks and work, but rather teach them to long for the endless immensity of the s a.\n",
      "l you want to build a ship, don't drum up people together to collect wood and don't assign them tasks and work, but rather teach them to long for the endless immensity of the sea.\n",
      "l you want to build a ship, don't drum up people together to collect wood and don't assign them tasks and work, but rather teach them to long for the endless immensity of the sea.\n",
      "l you want to build a ship, don't drum up people together to collect wood and don't assign them tasks and work, but rather teach them to long for the endless immensity of the sea.\n",
      "l you want to build a ship, don't drum up people together te collect wood and don't assign them tasks and work, but rather teach them to long for the endless immensity of the sea.\n",
      "t you want to build a ship, don't drum up people together to collect wood and don't assign them tasks and work, but rather toach them to long for the endless immensity of the sea.\n",
      "t you want to build a ship, don't drum up people together to collect wood and don't assign them tasks and work, but rather teach them to long for the endless immensity of the sea.\n",
      "l you want to build a ship, don't drum up people together te collect wood and don't assign them tasks and work, but rather teach them to long for the endless immensity of the sea.\n",
      "l you want to build a ship, don't drum up people together to collect wood and don't assign them tasks and work, but rather teach them to long for the endless immensity of the sea.\n",
      "l you want to build a ship, don't drum up people together to collect wood and don't assign them tasks and work, but rather teach them to long for the endless immensity of the sea.\n",
      "l you want to build a ship, don't drum up people together to collect wood and don't assign them tasks and work, but rather teach them to long for the endless immensity of the sea.\n",
      "l you want to build a ship, don't drum up people together to collect wood and don't assign them tasks and work, but rather teach them to long for the endless immensity of the sea.\n",
      "l you want to build a ship, don't drum up people together to collect wood and don't assign them tasks and work, but rather teach them to long for the endless immensity of the sea.\n",
      "l you want to build a ship, don't drum up people together to collect wood and don't assign them tasks and work, but rather teach them to long for the endless immensity of the sea.\n",
      "l you want to build a ship, don't drum up people together to collect wood and don't assign them tasks and work, but rather teach them to long for the endless immensity of the sea.\n",
      "l you want to build a ship, don't drum up people together to collect wood and don't assign them tasks and work, but rather teach them to long for the endless immensity of the sea.\n",
      "l you want to build a ship, don't drum up people together to collect wood and don't assign them tasks and work, but rather teach them to long for the endless immensity of the sea.\n",
      "l you want to build a ship, don't drum up people together to collect wood and don't assign them tasks and work, but rather teach them to long for the endless immensity of the sea.\n",
      "l you want to build a ship, don't drum up people together to collect wood and don't assign them tasks and work, but rather teach them to long for the endless immensity of the sea.\n",
      "l you want to build a ship, don't drum up people together to collect wood and don't assign them tasks and work, but rather teach them to long for the endless immensity of the sea.\n",
      "l you want to build a ship, don't drum up people together to collect wood and don't assign them tasks and work, but rather teach them to long for the endless immensity of the sea.\n",
      "l you want to build a ship, don't drum up people together to collect wood and don't assign them tasks and work, but rather teach them to long for the endless immensity of the sea.\n",
      "l you want to build a ship, don't drum up people together to collect wood and don't assign them tasks and work, but rather teach them to long for the endless immensity of the sea.\n",
      "l you want to build a ship, don't drum up people together to collect wood and don't assign them tasks and work, but rather teach them to long for the endless immensity of the sea.\n",
      "l you want to build a ship, don't drum up people together to collect wood and don't assign them tasks and work, but rather teach them to long for the endless immensity of the sea.\n",
      "l you want to build a ship, don't drum up people together to collect wood and don't assign them tasks and work, but rather teach them to long for the endless immensity of the sea.\n",
      "t you want to build a ship, don't drum up people together to collect wood and don't assign them tasks and work, but rather teach them to long for the endless immensity of the sea.\n"
     ]
    }
   ],
   "source": [
    "# start training\n",
    "for i in range(100):\n",
    "    optimizer.zero_grad()\n",
    "    outputs = net(X)\n",
    "    loss = criterion(outputs.view(-1, dic_size), Y.view(-1))\n",
    "    loss.backward()\n",
    "    optimizer.step()\n",
    "\n",
    "    results = outputs.argmax(dim=2)\n",
    "    predict_str = \"\"\n",
    "    for j, result in enumerate(results):\n",
    "        # print(i, j, ''.join([char_set[t] for t in result]), loss.item())\n",
    "        if j == 0:\n",
    "            predict_str += ''.join([char_set[t] for t in result])\n",
    "        else:\n",
    "            predict_str += char_set[result[-1]]\n",
    "\n",
    "    print(predict_str)"
   ]
  }
 ],
 "metadata": {
  "kernelspec": {
   "display_name": "Python 3",
   "language": "python",
   "name": "python3"
  },
  "language_info": {
   "codemirror_mode": {
    "name": "ipython",
    "version": 3
   },
   "file_extension": ".py",
   "mimetype": "text/x-python",
   "name": "python",
   "nbconvert_exporter": "python",
   "pygments_lexer": "ipython3",
   "version": "3.7.9"
  }
 },
 "nbformat": 4,
 "nbformat_minor": 4
}
