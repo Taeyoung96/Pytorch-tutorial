{
 "cells": [
  {
   "cell_type": "markdown",
   "metadata": {},
   "source": [
    "## Neural Network with 2D data\n",
    "\n",
    "- Neural Network with 4 layers\n",
    "- 2D data $f(x,y)$ -> R"
   ]
  },
  {
   "cell_type": "markdown",
   "metadata": {},
   "source": [
    "### 1. Import Required Libraries"
   ]
  },
  {
   "cell_type": "code",
   "execution_count": 1,
   "metadata": {},
   "outputs": [],
   "source": [
    "import numpy as np\n",
    "import torch\n",
    "import torch.nn as nn\n",
    "import torch.optim as optim\n",
    "import torch.nn.init as init\n",
    "from torch.autograd import Variable"
   ]
  },
  {
   "cell_type": "markdown",
   "metadata": {},
   "source": [
    "### 2. Data Generation"
   ]
  },
  {
   "cell_type": "code",
   "execution_count": 2,
   "metadata": {},
   "outputs": [],
   "source": [
    "num_data = 100\n",
    "num_epoch = 1000\n",
    "\n",
    "x = init.uniform_(torch.Tensor(num_data,1),-10,-10)\n",
    "y = init.uniform_(torch.Tensor(num_data,1),-10,-10)\n",
    "z = x**2 + y**2\n",
    "\n",
    "x_noise = x + init.normal_(torch.FloatTensor(num_data,1),std = 1)\n",
    "y_noise = y + init.normal_(torch.FloatTensor(num_data,1),std = 1)\n",
    "z_noise = x_noise**2 + y_noise**2\n",
    "\n",
    "data_noise = torch.cat([x,y,z_noise],1)\n"
   ]
  },
  {
   "cell_type": "markdown",
   "metadata": {},
   "source": [
    "### 3. Model & Optimizer"
   ]
  },
  {
   "cell_type": "code",
   "execution_count": 3,
   "metadata": {},
   "outputs": [],
   "source": [
    "model = nn.Sequential(\n",
    "        nn.Linear(2,20),\n",
    "        nn.ReLU(),\n",
    "        nn.Linear(20,10),\n",
    "        nn.ReLU(),\n",
    "        nn.Linear(10,5),\n",
    "        nn.ReLU(),\n",
    "        nn.Linear(5,5),\n",
    "        nn.ReLU(),\n",
    "        nn.Linear(5,1),\n",
    "        ).cuda()  #gpu로 동작하게 하기 위해서\n",
    "\n",
    "loss_func = nn.L1Loss()\n",
    "optimizer = optim.Adam(model.parameters(), lr=0.001)"
   ]
  },
  {
   "cell_type": "markdown",
   "metadata": {},
   "source": [
    "### 4. Train"
   ]
  },
  {
   "cell_type": "code",
   "execution_count": 5,
   "metadata": {},
   "outputs": [
    {
     "name": "stdout",
     "output_type": "stream",
     "text": [
      "205.43310546875\n",
      "190.18377685546875\n",
      "25.239051818847656\n",
      "22.511249542236328\n",
      "22.511211395263672\n",
      "22.511211395263672\n",
      "22.511211395263672\n",
      "22.511337280273438\n",
      "22.511640548706055\n",
      "22.511211395263672\n"
     ]
    }
   ],
   "source": [
    "input_data = torch.cat([x,y],1).cuda()\n",
    "label = z_noise.cuda()\n",
    "loss_arr = []\n",
    "\n",
    "for i in range(num_epoch):\n",
    "    optimizer.zero_grad()  #기울기 초기화해야 업데이트가 제대로 됨\n",
    "    output = model(Variable(input_data))\n",
    "    loss = loss_func(output,Variable(label))\n",
    "    loss.backward()\n",
    "    optimizer.step()\n",
    "    \n",
    "    loss_arr.append(loss.cpu().data.numpy())\n",
    "    \n",
    "    if i % 100 == 0:\n",
    "        print(loss.data.item())\n",
    "        data = torch.cat([input_data.cpu(), output.cpu().data],1)\n",
    "        "
   ]
  },
  {
   "cell_type": "markdown",
   "metadata": {},
   "source": [
    "### 5. Check Trained Parameters"
   ]
  },
  {
   "cell_type": "code",
   "execution_count": 8,
   "metadata": {},
   "outputs": [
    {
     "name": "stdout",
     "output_type": "stream",
     "text": [
      "tensor([[-1.0225, -0.9568],\n",
      "        [-0.2232, -0.4610],\n",
      "        [-0.0011,  0.0833],\n",
      "        [ 0.4745,  0.4172],\n",
      "        [-0.7816, -0.7500],\n",
      "        [ 0.6048,  0.0687],\n",
      "        [ 0.0113,  0.4504],\n",
      "        [-0.1926, -0.4556],\n",
      "        [ 0.6268,  0.1193],\n",
      "        [ 0.5768,  0.3336],\n",
      "        [ 0.5596,  0.6201],\n",
      "        [-0.8184, -0.3752],\n",
      "        [-0.9314, -0.2216],\n",
      "        [-0.8435, -0.9622],\n",
      "        [-1.0188, -0.8250],\n",
      "        [ 0.5844, -0.2008],\n",
      "        [ 0.2642,  0.4341],\n",
      "        [-0.0754, -0.9046],\n",
      "        [ 0.5627,  0.1488],\n",
      "        [ 0.2512, -0.1937]], device='cuda:0')\n",
      "tensor([-0.3258,  0.4018,  0.0996, -0.6793, -0.1895,  0.3144,  0.5303,  0.0058,\n",
      "        -0.1403,  0.3683, -0.5705,  0.6863, -0.1210,  0.2316,  0.8596,  0.1294,\n",
      "        -0.2880, -0.1808, -0.4007, -0.6178], device='cuda:0')\n",
      "tensor([[-6.3820e-02,  7.8657e-02,  2.0878e-01, -2.0813e-01, -1.4042e-01,\n",
      "          4.5164e-02, -1.8210e-01,  1.6079e-01,  9.5009e-02,  4.9711e-03,\n",
      "         -2.2169e-01,  3.2291e-02,  2.0991e-02,  1.6763e-01, -1.6864e-01,\n",
      "         -3.8313e-02, -1.6934e-01,  2.3699e-02, -2.3382e-02, -4.6726e-02],\n",
      "        [ 4.6694e-01,  1.7507e-01,  1.0872e-02, -4.3786e-02,  2.5772e-01,\n",
      "          1.4974e-01,  7.0766e-03,  4.3289e-01, -1.1711e-01, -3.0386e-02,\n",
      "          1.7625e-01,  3.9948e-01,  1.0730e-01,  4.7385e-01,  3.6453e-01,\n",
      "          8.3480e-02, -1.6649e-01,  9.8539e-02,  1.8451e-03, -2.0258e-01],\n",
      "        [ 4.9669e-01,  4.9659e-01, -6.2149e-02,  8.9652e-02,  4.6391e-01,\n",
      "         -1.3274e-01,  8.5531e-02,  4.0811e-01,  1.0073e-01, -6.6170e-02,\n",
      "         -5.5813e-02,  1.0580e-01,  2.2678e-01,  3.5622e-01,  3.2152e-01,\n",
      "          4.9894e-02,  5.2233e-02,  2.9965e-01, -4.2610e-04,  2.3896e-02],\n",
      "        [ 6.6044e-02,  8.8640e-03,  1.5931e-02, -1.3702e-01,  5.6187e-02,\n",
      "         -1.0552e-01,  4.1219e-02,  1.0346e-03,  4.0697e-03, -2.0865e-01,\n",
      "          1.5882e-01,  5.9972e-02, -3.1570e-02, -1.0228e-01,  1.3265e-03,\n",
      "         -5.1938e-02, -1.6375e-01, -2.4974e-01,  1.1545e-01, -1.0348e-01],\n",
      "        [ 4.9459e-01,  4.7630e-01,  1.0722e-02, -4.7061e-02,  3.4624e-01,\n",
      "         -1.7125e-01,  1.1276e-01,  4.0510e-01,  1.5826e-01, -1.7900e-01,\n",
      "          7.6099e-02,  4.1978e-01,  2.7092e-01,  3.6276e-01,  4.0193e-01,\n",
      "          6.4134e-02,  1.9650e-01,  1.7993e-01,  1.5735e-01, -1.9882e-01],\n",
      "        [ 3.5298e-01,  2.0115e-01,  3.1224e-02,  7.6209e-02,  4.0506e-01,\n",
      "         -9.7336e-02,  7.3860e-02,  1.9296e-01, -2.1047e-01, -5.1111e-02,\n",
      "         -1.9539e-01,  6.8260e-02,  4.3221e-01,  1.2168e-01,  2.8091e-01,\n",
      "         -2.0932e-01,  3.3391e-02,  1.2139e-01, -5.1551e-02, -2.0542e-01],\n",
      "        [ 4.5681e-01,  2.2584e-01, -2.2252e-01, -5.9693e-02,  3.4855e-01,\n",
      "         -1.2859e-02, -5.4350e-03,  3.8151e-01, -6.7236e-02,  1.0986e-01,\n",
      "          1.2549e-01,  3.0677e-01,  3.1971e-01,  3.1881e-01,  5.1224e-01,\n",
      "         -1.8554e-01, -5.1457e-02,  5.0594e-01, -6.7309e-02, -4.9802e-02],\n",
      "        [ 3.9533e-01,  2.9814e-01,  8.5075e-02, -2.0282e-01,  4.8309e-01,\n",
      "         -1.1546e-01,  1.6623e-01,  2.1442e-01, -2.0903e-01, -4.4512e-02,\n",
      "         -7.6290e-02,  4.9958e-01,  5.0745e-01,  4.2045e-01,  1.5563e-01,\n",
      "         -2.0659e-01, -1.6060e-01,  2.6123e-01,  1.1512e-01, -9.4005e-02],\n",
      "        [ 4.0517e-01,  5.1521e-01, -4.7235e-02,  1.4190e-01,  1.6591e-01,\n",
      "          1.3607e-02,  5.5385e-02,  4.7678e-01,  3.8127e-02,  5.2918e-02,\n",
      "          2.0384e-01,  2.5331e-01,  4.6676e-01,  1.7771e-01,  5.3021e-01,\n",
      "          2.0479e-01, -2.9602e-02,  5.2947e-01, -1.1250e-01, -3.5839e-02],\n",
      "        [-1.8998e-01, -1.3948e-01,  9.7656e-02, -9.4241e-02,  8.9694e-02,\n",
      "         -1.0294e-01, -1.2526e-01,  8.3021e-02,  7.5985e-02,  2.0833e-01,\n",
      "         -8.7892e-02, -2.2203e-01, -1.0945e-01, -1.8848e-01,  2.1424e-01,\n",
      "         -5.1517e-02,  1.3356e-01,  9.2202e-02,  1.3257e-01, -2.1956e-01]],\n",
      "       device='cuda:0')\n"
     ]
    }
   ],
   "source": [
    "param_list = list(model.parameters()) #모델 안에 있는 파라미터들 확인\n",
    "print(param_list[0].data)\n",
    "print(param_list[1].data)\n",
    "print(param_list[2].data)"
   ]
  },
  {
   "cell_type": "code",
   "execution_count": null,
   "metadata": {},
   "outputs": [],
   "source": []
  }
 ],
 "metadata": {
  "kernelspec": {
   "display_name": "Python 3",
   "language": "python",
   "name": "python3"
  },
  "language_info": {
   "codemirror_mode": {
    "name": "ipython",
    "version": 3
   },
   "file_extension": ".py",
   "mimetype": "text/x-python",
   "name": "python",
   "nbconvert_exporter": "python",
   "pygments_lexer": "ipython3",
   "version": "3.7.9"
  }
 },
 "nbformat": 4,
 "nbformat_minor": 4
}
