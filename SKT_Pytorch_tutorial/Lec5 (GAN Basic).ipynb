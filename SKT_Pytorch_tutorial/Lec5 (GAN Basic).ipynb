{
 "cells": [
  {
   "cell_type": "markdown",
   "metadata": {},
   "source": [
    "## 1. Import required libraries"
   ]
  },
  {
   "cell_type": "code",
   "execution_count": 1,
   "metadata": {},
   "outputs": [],
   "source": [
    "# Vanilla GAN with Multi GPUs + Naming Layers using OrderedDict\n",
    "# Code by GunhoChoi and TaeyoungKim\n",
    "\n",
    "import torch\n",
    "import torch.nn as nn\n",
    "import torch.utils as utils\n",
    "import torch.nn.init as init\n",
    "from torch.autograd import Variable\n",
    "import torchvision.utils as v_utils\n",
    "import torchvision.datasets as dset\n",
    "import torchvision.transforms as transforms\n",
    "import numpy as np\n",
    "import matplotlib.pyplot as plt\n",
    "from collections import OrderedDict"
   ]
  },
  {
   "cell_type": "markdown",
   "metadata": {},
   "source": [
    "## 2. Hyperparameter Setting"
   ]
  },
  {
   "cell_type": "code",
   "execution_count": 2,
   "metadata": {},
   "outputs": [],
   "source": [
    "# Set Hyperparameters\n",
    "# change num_gpu to the number of gpus you want to use\n",
    "\n",
    "epoch = 1\n",
    "batch_size = 512\n",
    "learning_rate = 0.0001\n",
    "num_gpus = 1\n",
    "z_size = 50\n",
    "middle_size = 200"
   ]
  },
  {
   "cell_type": "markdown",
   "metadata": {},
   "source": [
    "## 3. Data Setting"
   ]
  },
  {
   "cell_type": "code",
   "execution_count": 3,
   "metadata": {},
   "outputs": [],
   "source": [
    "# Download Data\n",
    "mnist_train = dset.MNIST(\"./\", train=True, transform=transforms.ToTensor(), target_transform=None, download=True)\n",
    "\n",
    "# Set Data Loader(input pipeline)\n",
    "train_loader = torch.utils.data.DataLoader(dataset=mnist_train,batch_size=batch_size,shuffle=True,drop_last=True)\n"
   ]
  },
  {
   "cell_type": "markdown",
   "metadata": {},
   "source": [
    "## 4. Generator"
   ]
  },
  {
   "cell_type": "code",
   "execution_count": 4,
   "metadata": {},
   "outputs": [],
   "source": [
    "# Generator receives random noise z and create 1x28x28 image\n",
    "# we can name each layer using OrderedDict\n",
    "\n",
    "class Generator(nn.Module):\n",
    "    def __init__(self):\n",
    "        super(Generator,self).__init__()\n",
    "        self.layer1 = nn.Sequential(OrderedDict([\n",
    "                    ('fc1',nn.Linear(z_size, middle_size)),\n",
    "                    ('bn1',nn.BatchNorm1d(middle_size)),\n",
    "                    ('act1',nn.ReLU()),\n",
    "        ]))\n",
    "        \n",
    "        self.layer2 = nn.Sequential(OrderedDict([\n",
    "                    ('fc2',nn.Linear(middle_size,784)),\n",
    "                    #('bn2',nn.BatchNorm2d(784)),\n",
    "                    ('bn2',nn.BatchNorm1d(784)),\n",
    "                    ('tanh', nn.Tanh()),\n",
    "        ]))\n",
    "    \n",
    "    def forward(self,z):\n",
    "        out = self.layer1(z)\n",
    "        out = self.layer2(out)\n",
    "        out = out.view(batch_size//num_gpus,1,28,28)\n",
    "        #view는 강제로 차원을 변형해주기 위해 쓰는 함수\n",
    "        \n",
    "        return out"
   ]
  },
  {
   "cell_type": "markdown",
   "metadata": {},
   "source": [
    "## 5. Discriminator"
   ]
  },
  {
   "cell_type": "code",
   "execution_count": 5,
   "metadata": {},
   "outputs": [],
   "source": [
    "# Discriminator receives 1x28x28 image and returns a float number 0~1\n",
    "# we can name each layer using OrderedDict\n",
    "\n",
    "class Discriminator(nn.Module):\n",
    "    def __init__(self):\n",
    "        super(Discriminator,self).__init__()\n",
    "        self.layer1 = nn.Sequential(OrderedDict([\n",
    "                        ('fc1',nn.Linear(784, middle_size)),\n",
    "                        ('bn1',nn.BatchNorm1d(middle_size)),\n",
    "                        ('act1',nn.LeakyReLU()),\n",
    "        ]))\n",
    "        \n",
    "        self.layer2 = nn.Sequential(OrderedDict([\n",
    "                        ('fc2',nn.Linear(middle_size,1)),\n",
    "                        #('bc2',nn.BatchNorm1d(1)),\n",
    "                        ('act2',nn.Sigmoid()),\n",
    "        ]))\n",
    "        \n",
    "    def forward(self,x):\n",
    "        out = x.view(batch_size//num_gpus,-1)\n",
    "        out = self.layer1(out)\n",
    "        out = self.layer2(out)\n",
    "        \n",
    "        return out"
   ]
  },
  {
   "cell_type": "markdown",
   "metadata": {},
   "source": [
    "## 6. Put instances on Multi-gpu"
   ]
  },
  {
   "cell_type": "code",
   "execution_count": 6,
   "metadata": {},
   "outputs": [],
   "source": [
    "# Put class objects on Multiple GPUs using \n",
    "# torch.nn.DataParallel(module, device_ids=None, output_device=None, dim=0)\n",
    "# device_ids: default all devices / output_device: default device 0 \n",
    "# along with .cuda()\n",
    "\n",
    "generator = nn.DataParallel(Generator()).cuda()\n",
    "discriminator = nn.DataParallel(Discriminator()).cuda()"
   ]
  },
  {
   "cell_type": "markdown",
   "metadata": {},
   "source": [
    "## 7. Check layers"
   ]
  },
  {
   "cell_type": "code",
   "execution_count": 7,
   "metadata": {},
   "outputs": [
    {
     "name": "stdout",
     "output_type": "stream",
     "text": [
      "module.layer1.fc1.weight\n",
      "module.layer1.fc1.bias\n",
      "module.layer1.bn1.weight\n",
      "module.layer1.bn1.bias\n",
      "module.layer1.bn1.running_mean\n",
      "module.layer1.bn1.running_var\n",
      "module.layer1.bn1.num_batches_tracked\n",
      "module.layer2.fc2.weight\n",
      "module.layer2.fc2.bias\n",
      "module.layer2.bn2.weight\n",
      "module.layer2.bn2.bias\n",
      "module.layer2.bn2.running_mean\n",
      "module.layer2.bn2.running_var\n",
      "module.layer2.bn2.num_batches_tracked\n"
     ]
    }
   ],
   "source": [
    "# Get parameter list by using class.state_dict().keys()\n",
    "\n",
    "gen_params = generator.state_dict().keys()\n",
    "dis_params = discriminator.state_dict().keys()\n",
    "\n",
    "for i in gen_params:\n",
    "    print(i)"
   ]
  },
  {
   "cell_type": "markdown",
   "metadata": {},
   "source": [
    "## 8. Set Loss function & Optimizer"
   ]
  },
  {
   "cell_type": "code",
   "execution_count": 8,
   "metadata": {},
   "outputs": [],
   "source": [
    "# loss function and optimizers and labels for training\n",
    "\n",
    "loss_func = nn.MSELoss()\n",
    "gen_optim = torch.optim.Adam(generator.parameters(), lr = learning_rate, betas = (0.5,0.999))\n",
    "dis_optim = torch.optim.Adam(discriminator.parameters(), lr = learning_rate, betas = (0.5,0.999))\n",
    "\n",
    "ones_label = Variable(torch.ones(batch_size,1)).cuda()\n",
    "zeros_label = Variable(torch.zeros(batch_size,1)).cuda()"
   ]
  },
  {
   "cell_type": "markdown",
   "metadata": {},
   "source": [
    "## 9. Restore Model"
   ]
  },
  {
   "cell_type": "code",
   "execution_count": 9,
   "metadata": {},
   "outputs": [
    {
     "name": "stdout",
     "output_type": "stream",
     "text": [
      "\n",
      "---------------model not restored-----------------\n",
      "\n"
     ]
    }
   ],
   "source": [
    "# model restore if any\n",
    "\n",
    "try :\n",
    "    generator, discriminator = torch.load('./model/vanilla_gan.pkl')\n",
    "    print(\"\\n---------------model restored-----------------\\n\")\n",
    "\n",
    "except:\n",
    "    print(\"\\n---------------model not restored-----------------\\n\")\n",
    "    pass"
   ]
  },
  {
   "cell_type": "markdown",
   "metadata": {},
   "source": [
    "## 10. Train model"
   ]
  },
  {
   "cell_type": "code",
   "execution_count": 12,
   "metadata": {},
   "outputs": [
    {
     "name": "stdout",
     "output_type": "stream",
     "text": [
      "tensor(0.2823, device='cuda:0', grad_fn=<SumBackward0>) tensor(0.4545, device='cuda:0', grad_fn=<AddBackward0>)\n",
      "0th iteration gen_loss: 0.2823394238948822 dis_loss: 0.45450830459594727\n",
      "tensor(0.3170, device='cuda:0', grad_fn=<SumBackward0>) tensor(0.4080, device='cuda:0', grad_fn=<AddBackward0>)\n",
      "0th iteration gen_loss: 0.31698527932167053 dis_loss: 0.4080137014389038\n"
     ]
    }
   ],
   "source": [
    "#train\n",
    "\n",
    "for i in range(epoch):\n",
    "    for j,(image,label) in enumerate(train_loader):\n",
    "        image = Variable(image).cuda()\n",
    "        \n",
    "        # discriminator\n",
    "        \n",
    "        dis_optim.zero_grad()\n",
    "        \n",
    "        z = Variable(init.normal_(torch.Tensor(batch_size,z_size),mean = 0, std = 0.1)).cuda()\n",
    "        gen_fake = generator.forward(z)\n",
    "        dis_fake = discriminator.forward(gen_fake)\n",
    "        \n",
    "        dis_real = discriminator.forward(image)\n",
    "        dis_loss = torch.sum(loss_func(dis_fake,zeros_label)) + torch.sum(loss_func(dis_real,ones_label))\n",
    "        #fake image는 가짜 그림과 loss, 진짜 MNIST image는 실제 그림과 loss\n",
    "        dis_loss.backward(retain_graph = True)\n",
    "        dis_optim.step()\n",
    "        \n",
    "        # generator\n",
    "        \n",
    "        gen_optim.zero_grad()\n",
    "        \n",
    "        z = Variable(init.normal_(torch.Tensor(batch_size,z_size),mean = 0, std = 0.1)).cuda()\n",
    "        gen_fake = generator.forward(z)\n",
    "        dis_fake = discriminator.forward(gen_fake)\n",
    "        \n",
    "        gen_loss = torch.sum(loss_func(dis_fake, ones_label))\n",
    "        #fake classified as real\n",
    "        gen_loss.backward()\n",
    "        gen_optim.step()\n",
    "        \n",
    "        #model save\n",
    "        if j % 100 == 0:\n",
    "            print(gen_loss, dis_loss)\n",
    "            #torch.save([generator,discriminator],'./vanilla_gan.pkl') #한번에 모델을 저장! but Warning 표시가 뜬다..\n",
    "            torch.save({'generator': generator.state_dict()}, './vanilla_generator.pkl')\n",
    "            torch.save({'discriminator':discriminator.state_dict()}, './vanilla_discriminator.pkl')\n",
    "            #파일의 경로 신경 써 주기!\n",
    "            \n",
    "            print(\"{}th iteration gen_loss: {} dis_loss: {}\".format(i,gen_loss.data,dis_loss.data))\n",
    "            v_utils.save_image(gen_fake.data[0:25],\"./gen_{}_{}.png\".format(i,j), nrow=5)\n",
    "            #생성된 이미지가 저장되는 부분, 파일 경로 확인!"
   ]
  },
  {
   "cell_type": "code",
   "execution_count": null,
   "metadata": {},
   "outputs": [],
   "source": []
  },
  {
   "cell_type": "code",
   "execution_count": null,
   "metadata": {},
   "outputs": [],
   "source": []
  }
 ],
 "metadata": {
  "kernelspec": {
   "display_name": "Python 3",
   "language": "python",
   "name": "python3"
  },
  "language_info": {
   "codemirror_mode": {
    "name": "ipython",
    "version": 3
   },
   "file_extension": ".py",
   "mimetype": "text/x-python",
   "name": "python",
   "nbconvert_exporter": "python",
   "pygments_lexer": "ipython3",
   "version": "3.7.9"
  }
 },
 "nbformat": 4,
 "nbformat_minor": 4
}
