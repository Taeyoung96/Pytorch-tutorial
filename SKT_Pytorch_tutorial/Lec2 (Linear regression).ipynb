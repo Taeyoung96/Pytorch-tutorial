{
 "cells": [
  {
   "cell_type": "markdown",
   "metadata": {},
   "source": [
    "## Linear Regression\n",
    "\n",
    "- Linear Data\n",
    "- Linear Model\n",
    "- $y = 2*x + 3$"
   ]
  },
  {
   "cell_type": "markdown",
   "metadata": {},
   "source": [
    "## 1. Import Required Libraries"
   ]
  },
  {
   "cell_type": "code",
   "execution_count": 25,
   "metadata": {},
   "outputs": [],
   "source": [
    "import numpy as np\n",
    "import torch\n",
    "import torch.nn as nn\n",
    "import torch.optim as optim\n",
    "import torch.nn.init as init\n",
    "from torch.autograd import Variable"
   ]
  },
  {
   "cell_type": "markdown",
   "metadata": {},
   "source": [
    "## 2. Generate Data"
   ]
  },
  {
   "cell_type": "code",
   "execution_count": 26,
   "metadata": {},
   "outputs": [],
   "source": [
    "num_data = 1000\n",
    "num_epoch = 1000\n",
    "\n",
    "noise = init.normal_(torch.FloatTensor(num_data,1),std=1)  # std가 1인 noise tensor\n",
    "x = init.uniform_(torch.FloatTensor(num_data,1),-10.0,10.0)\n",
    "\n",
    "y = 2*x+3\n",
    "y_noise = y + noise"
   ]
  },
  {
   "cell_type": "markdown",
   "metadata": {},
   "source": [
    "## 3. Model & Optimizer"
   ]
  },
  {
   "cell_type": "code",
   "execution_count": 27,
   "metadata": {},
   "outputs": [],
   "source": [
    "model = nn.Linear(1,1) #input, output\n",
    "output = model(Variable(x))\n",
    "\n",
    "loss_func = nn.MSELoss()\n",
    "optimizer = optim.SGD(model.parameters(),lr = 0.01)"
   ]
  },
  {
   "cell_type": "markdown",
   "metadata": {},
   "source": [
    "## 4. Train"
   ]
  },
  {
   "cell_type": "code",
   "execution_count": 35,
   "metadata": {},
   "outputs": [
    {
     "name": "stdout",
     "output_type": "stream",
     "text": [
      "0.9728879332542419\n",
      "0.9728879332542419\n",
      "0.9728879332542419\n",
      "0.9728879332542419\n",
      "0.9728879332542419\n",
      "0.9728879332542419\n",
      "0.9728879332542419\n",
      "0.9728879332542419\n",
      "0.9728879332542419\n",
      "0.9728879332542419\n",
      "0.9728879332542419\n",
      "0.9728879332542419\n",
      "0.9728879332542419\n",
      "0.9728879332542419\n",
      "0.9728879332542419\n",
      "0.9728879332542419\n",
      "0.9728879332542419\n",
      "0.9728879332542419\n",
      "0.9728879332542419\n",
      "0.9728879332542419\n",
      "0.9728879332542419\n",
      "0.9728879332542419\n",
      "0.9728879332542419\n",
      "0.9728879332542419\n",
      "0.9728879332542419\n",
      "0.9728879332542419\n",
      "0.9728879332542419\n",
      "0.9728879332542419\n",
      "0.9728879332542419\n",
      "0.9728879332542419\n",
      "0.9728879332542419\n",
      "0.9728879332542419\n",
      "0.9728879332542419\n",
      "0.9728879332542419\n",
      "0.9728879332542419\n",
      "0.9728879332542419\n",
      "0.9728879332542419\n",
      "0.9728879332542419\n",
      "0.9728879332542419\n",
      "0.9728879332542419\n",
      "0.9728879332542419\n",
      "0.9728879332542419\n",
      "0.9728879332542419\n",
      "0.9728879332542419\n",
      "0.9728879332542419\n",
      "0.9728879332542419\n",
      "0.9728879332542419\n",
      "0.9728879332542419\n",
      "0.9728879332542419\n",
      "0.9728879332542419\n",
      "0.9728879332542419\n",
      "0.9728879332542419\n",
      "0.9728879332542419\n",
      "0.9728879332542419\n",
      "0.9728879332542419\n",
      "0.9728879332542419\n",
      "0.9728879332542419\n",
      "0.9728879332542419\n",
      "0.9728879332542419\n",
      "0.9728879332542419\n",
      "0.9728879332542419\n",
      "0.9728879332542419\n",
      "0.9728879332542419\n",
      "0.9728879332542419\n",
      "0.9728879332542419\n",
      "0.9728879332542419\n",
      "0.9728879332542419\n",
      "0.9728879332542419\n",
      "0.9728879332542419\n",
      "0.9728879332542419\n",
      "0.9728879332542419\n",
      "0.9728879332542419\n",
      "0.9728879332542419\n",
      "0.9728879332542419\n",
      "0.9728879332542419\n",
      "0.9728879332542419\n",
      "0.9728879332542419\n",
      "0.9728879332542419\n",
      "0.9728879332542419\n",
      "0.9728879332542419\n",
      "0.9728879332542419\n",
      "0.9728879332542419\n",
      "0.9728879332542419\n",
      "0.9728879332542419\n",
      "0.9728879332542419\n",
      "0.9728879332542419\n",
      "0.9728879332542419\n",
      "0.9728879332542419\n",
      "0.9728879332542419\n",
      "0.9728879332542419\n",
      "0.9728879332542419\n",
      "0.9728879332542419\n",
      "0.9728879332542419\n",
      "0.9728879332542419\n",
      "0.9728879332542419\n",
      "0.9728879332542419\n",
      "0.9728879332542419\n",
      "0.9728879332542419\n",
      "0.9728879332542419\n",
      "0.9728879332542419\n"
     ]
    }
   ],
   "source": [
    "# train\n",
    "loss_arr = []\n",
    "label = Variable(y_noise)\n",
    "\n",
    "for i in range(num_epoch):\n",
    "    optimizer.zero_grad()  #update된 gradient값을 초기화하는 부분\n",
    "    output = model(Variable(x))\n",
    "    \n",
    "    loss = loss_func(output,label)  #ouput이 Variable 이기 때문에, label도 Variable이여야 한다.\n",
    "    loss.backward()\n",
    "    optimizer.step()\n",
    "    \n",
    "    if i % 10 == 0:\n",
    "        print(loss.data.item())   #loss의 tensor 값을 알아보고 싶을 때\n",
    "        \n",
    "    loss_arr.append(loss.data.numpy())"
   ]
  },
  {
   "cell_type": "markdown",
   "metadata": {},
   "source": [
    "### 5. Check Trained Parameters"
   ]
  },
  {
   "cell_type": "code",
   "execution_count": 36,
   "metadata": {},
   "outputs": [
    {
     "name": "stdout",
     "output_type": "stream",
     "text": [
      "tensor([[2.0030]]) tensor([3.0528])\n"
     ]
    }
   ],
   "source": [
    "param_list = list(model.parameters()) #모델 안에 있는 파라미터들 확인\n",
    "print(param_list[0].data, param_list[1].data)"
   ]
  },
  {
   "cell_type": "code",
   "execution_count": null,
   "metadata": {},
   "outputs": [],
   "source": []
  },
  {
   "cell_type": "code",
   "execution_count": null,
   "metadata": {},
   "outputs": [],
   "source": []
  },
  {
   "cell_type": "code",
   "execution_count": null,
   "metadata": {},
   "outputs": [],
   "source": []
  }
 ],
 "metadata": {
  "kernelspec": {
   "display_name": "Python 3",
   "language": "python",
   "name": "python3"
  },
  "language_info": {
   "codemirror_mode": {
    "name": "ipython",
    "version": 3
   },
   "file_extension": ".py",
   "mimetype": "text/x-python",
   "name": "python",
   "nbconvert_exporter": "python",
   "pygments_lexer": "ipython3",
   "version": "3.7.9"
  }
 },
 "nbformat": 4,
 "nbformat_minor": 4
}
